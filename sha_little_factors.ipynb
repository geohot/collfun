{
 "metadata": {
  "name": ""
 },
 "nbformat": 3,
 "nbformat_minor": 0,
 "worksheets": [
  {
   "cells": [
    {
     "cell_type": "code",
     "collapsed": false,
     "input": [
      "%pylab inline\n",
      "from factorgraph import *\n",
      "from shafactors import *"
     ],
     "language": "python",
     "metadata": {},
     "outputs": [
      {
       "output_type": "stream",
       "stream": "stdout",
       "text": [
        "Populating the interactive namespace from numpy and matplotlib\n",
        "Couldn't import dot_parser, loading of dot files will not be possible."
       ]
      },
      {
       "output_type": "stream",
       "stream": "stdout",
       "text": [
        "\n",
        "    f_if   8  16     256 [2, 2, 2] [2]\n",
        "   f_maj   8  16     256 [2, 2, 2] [2]\n",
        "   f_xor   8  16     256 [2, 2, 2] [2]\n",
        "   add_0  16 160   25600 [2, 2, 2, 2] [10]\n",
        "  addc_0  80 800  640000"
       ]
      },
      {
       "output_type": "stream",
       "stream": "stdout",
       "text": [
        " [2, 2, 2, 2, 5] [10]\n",
        "   add_1  16 160   25600 [2, 2, 2, 2] [10]\n",
        "  addc_1  80 800  640000"
       ]
      },
      {
       "output_type": "stream",
       "stream": "stdout",
       "text": [
        " [2, 2, 2, 2, 5] [10]\n",
        "carrylsb  20 100   10000 [10, 2] [5]\n",
        "   carry  10  50    2500 [10] [5]\n",
        "     lsb  10  20     400 [10] [2]\n",
        "    xor5  16  32    1024 [2, 2, 2, 2] [2]\n",
        " follows  64 128     128 [16, 4] [2]\n",
        "built factor matrices in 0.619196 s\n"
       ]
      }
     ],
     "prompt_number": 1
    },
    {
     "cell_type": "code",
     "collapsed": false,
     "input": [
      "# build single round factorgraph\n",
      "\n",
      "def compute_pu(rnd, test_A, test_W, target_A):\n",
      "    G = FactorGraph()\n",
      "    \n",
      "    # create the bytes\n",
      "    bits = 32\n",
      "    rnd_count = 1\n",
      "    \n",
      "    for j in range(rnd_count):\n",
      "        W = FactorByte(G, \"W_%d\" % (rnd+j), 2*2, bits)\n",
      "        F = FactorByte(G, \"F_%d\" % (rnd+j), 2*2, bits)\n",
      "        O = FactorByte(G, \"O_%d\" % (rnd+j), 10*10, bits)\n",
      "        C = FactorByte(G, \"C_%d\" % (rnd+j), 5*5, bits-1)\n",
      "        \n",
      "        T = FactorByte(G, \"T_%d\" % (rnd+j+1), 16, bits)\n",
      "        Pu = FactorByte(G, \"Pu_%d\" % (rnd+j+1), 2, bits)\n",
      "    A = [FactorByte(G, \"A_%d\" % j, 2*2, bits) for j in range(rnd-4, rnd+1+rnd_count)]\n",
      "    \n",
      "    # the added factors for one round form a polytree\n",
      "    for j in range(rnd_count):\n",
      "        add_sha1_factors_for_round(G, rnd+j, bits, True)\n",
      "    \n",
      "    for i in range(bits):\n",
      "        G.addFactor(follows,\n",
      "            [\"T_%d_%d\" % (rnd+1, i),\n",
      "             \"A_%d_%d\" % (rnd+1, i),\n",
      "             \"Pu_%d_%d\" % (rnd+1, i)])\n",
      "\n",
      "    G.reset()\n",
      "    for a, tA in zip(A, test_A):\n",
      "        a.fix(tA)\n",
      "    W.fix(test_W)\n",
      "    T.fix(target_A)\n",
      "    Pu.fix(\"!\" + \"1\"*31)\n",
      "    \n",
      "    G.compute()\n",
      "        \n",
      "    return math.log(Pu[-1].probs[1], 2)\n",
      "\n",
      "\n",
      "def transform(x):\n",
      "    return x.replace(\"-\", \"n\").replace(\"+\", \"u\").replace(\".\", \"-\") \\\n",
      "        .replace(\"^\", \"-\").replace(\"!\", \"-\") \\\n",
      "        .replace(\"r\", \"-\").replace(\"R\", \"-\") \\\n",
      "        .replace(\"m\", \"-\").replace(\"#\", \"-\")\n",
      "\n",
      "cA = {}\n",
      "cW = {}\n",
      "\n",
      "for ln in open('ms_char').read().split(\"\\n\"):\n",
      "    lnn = ln.split(\" \")\n",
      "    if len(lnn) > 1:\n",
      "        rnd = int(lnn[0][:-1])\n",
      "        cA[rnd] = transform(lnn[1])\n",
      "        if len(lnn) == 3:\n",
      "            cW[rnd] = transform(lnn[2])\n",
      "        #print rnd, cA[rnd]\n",
      "\n",
      "\"\"\"\n",
      "test_A = [\n",
      "    \"0000001110001111100010001001000n\",\n",
      "    \"0n0010010100001010110-00011u0un0\",\n",
      "    \"1u10100001110010100-1un110nuu110\",\n",
      "    \"1un0010110011110un1100-0n1n11nu1\",\n",
      "    \"n1u10110101un00010nu10u111000010\"]\n",
      "test_W = \"u1100101101000111111----1n101011\"\n",
      "target_A = \"100u100u01111nu00u1110nu111u1un1\"\n",
      "\"\"\"\n",
      "\n",
      "pusum = 0.0\n",
      "for i in range(25, 66):\n",
      "    test_A = [cA[x] for x in range(i-4, i+1)]\n",
      "    test_W = cW[i]\n",
      "    target_A = cA[i+1]\n",
      "    #print i, test_A, test_W, target_A\n",
      "    pu = compute_pu(i, test_A, test_W, target_A)\n",
      "    pusum += pu\n",
      "    print \"%3d %s %5.2f\" % (i+1, target_A, pu)\n",
      "print pusum"
     ],
     "language": "python",
     "metadata": {},
     "outputs": [
      {
       "output_type": "stream",
       "stream": "stdout",
       "text": [
        " 26 -------------------------------- -2.00\n",
        " 27 n------------------------------- -4.00"
       ]
      },
      {
       "output_type": "stream",
       "stream": "stdout",
       "text": [
        "\n",
        " 28 u------------------------------- -3.00"
       ]
      },
      {
       "ename": "ValueError",
       "evalue": "math domain error",
       "output_type": "pyerr",
       "traceback": [
        "\u001b[0;31m---------------------------------------------------------------------------\u001b[0m\n\u001b[0;31mValueError\u001b[0m                                Traceback (most recent call last)",
        "\u001b[0;32m<ipython-input-18-b29938209f20>\u001b[0m in \u001b[0;36m<module>\u001b[0;34m()\u001b[0m\n\u001b[1;32m     72\u001b[0m     \u001b[0mtarget_A\u001b[0m \u001b[0;34m=\u001b[0m \u001b[0mcA\u001b[0m\u001b[0;34m[\u001b[0m\u001b[0mi\u001b[0m\u001b[0;34m+\u001b[0m\u001b[0;36m1\u001b[0m\u001b[0;34m]\u001b[0m\u001b[0;34m\u001b[0m\u001b[0m\n\u001b[1;32m     73\u001b[0m     \u001b[0;31m#print i, test_A, test_W, target_A\u001b[0m\u001b[0;34m\u001b[0m\u001b[0;34m\u001b[0m\u001b[0m\n\u001b[0;32m---> 74\u001b[0;31m     \u001b[0mpu\u001b[0m \u001b[0;34m=\u001b[0m \u001b[0mcompute_pu\u001b[0m\u001b[0;34m(\u001b[0m\u001b[0mi\u001b[0m\u001b[0;34m,\u001b[0m \u001b[0mtest_A\u001b[0m\u001b[0;34m,\u001b[0m \u001b[0mtest_W\u001b[0m\u001b[0;34m,\u001b[0m \u001b[0mtarget_A\u001b[0m\u001b[0;34m)\u001b[0m\u001b[0;34m\u001b[0m\u001b[0m\n\u001b[0m\u001b[1;32m     75\u001b[0m     \u001b[0mpusum\u001b[0m \u001b[0;34m+=\u001b[0m \u001b[0mpu\u001b[0m\u001b[0;34m\u001b[0m\u001b[0m\n\u001b[1;32m     76\u001b[0m     \u001b[0;32mprint\u001b[0m \u001b[0;34m\"%3d %s %5.2f\"\u001b[0m \u001b[0;34m%\u001b[0m \u001b[0;34m(\u001b[0m\u001b[0mi\u001b[0m\u001b[0;34m+\u001b[0m\u001b[0;36m1\u001b[0m\u001b[0;34m,\u001b[0m \u001b[0mtarget_A\u001b[0m\u001b[0;34m,\u001b[0m \u001b[0mpu\u001b[0m\u001b[0;34m)\u001b[0m\u001b[0;34m\u001b[0m\u001b[0m\n",
        "\u001b[0;32m<ipython-input-18-b29938209f20>\u001b[0m in \u001b[0;36mcompute_pu\u001b[0;34m(rnd, test_A, test_W, target_A)\u001b[0m\n\u001b[1;32m     37\u001b[0m     \u001b[0mG\u001b[0m\u001b[0;34m.\u001b[0m\u001b[0mcompute\u001b[0m\u001b[0;34m(\u001b[0m\u001b[0;34m)\u001b[0m\u001b[0;34m\u001b[0m\u001b[0m\n\u001b[1;32m     38\u001b[0m \u001b[0;34m\u001b[0m\u001b[0m\n\u001b[0;32m---> 39\u001b[0;31m     \u001b[0;32mreturn\u001b[0m \u001b[0mmath\u001b[0m\u001b[0;34m.\u001b[0m\u001b[0mlog\u001b[0m\u001b[0;34m(\u001b[0m\u001b[0mPu\u001b[0m\u001b[0;34m[\u001b[0m\u001b[0;34m-\u001b[0m\u001b[0;36m1\u001b[0m\u001b[0;34m]\u001b[0m\u001b[0;34m.\u001b[0m\u001b[0mprobs\u001b[0m\u001b[0;34m[\u001b[0m\u001b[0;36m1\u001b[0m\u001b[0;34m]\u001b[0m\u001b[0;34m,\u001b[0m \u001b[0;36m2\u001b[0m\u001b[0;34m)\u001b[0m\u001b[0;34m\u001b[0m\u001b[0m\n\u001b[0m\u001b[1;32m     40\u001b[0m \u001b[0;34m\u001b[0m\u001b[0m\n\u001b[1;32m     41\u001b[0m \u001b[0;34m\u001b[0m\u001b[0m\n",
        "\u001b[0;31mValueError\u001b[0m: math domain error"
       ]
      },
      {
       "output_type": "stream",
       "stream": "stdout",
       "text": [
        "\n"
       ]
      }
     ],
     "prompt_number": 18
    },
    {
     "cell_type": "code",
     "collapsed": false,
     "input": [
      "# test for a single round\n",
      "\n",
      "test_A = [\n",
      "    \"00001111010010111000011111000011\",\n",
      "    \"01000000110010010101000111011000\",\n",
      "    \"01100010111010110111001111111010\",\n",
      "    \"11101111110011011010101110001001\",\n",
      "    \"01100111010001010010001100000001\"]\n",
      "test_W = \"011000111101101011101111110111nu\"\n",
      "target_A = \"0000001110001111100010001001000n\"\n",
      "\n",
      "G.reset()\n",
      "\n",
      "for a, tA in zip(A, test_A):\n",
      "    a.fix(tA)\n",
      "W.fix(test_W)\n",
      "T.fix(target_A)\n",
      "Pu.fix(\"!\" + \"1\"*31)\n",
      "\n",
      "G.compute()\n",
      "\n",
      "print A[-1], target_A\n",
      "assert str(A[-1]) == target_A\n"
     ],
     "language": "python",
     "metadata": {},
     "outputs": [
      {
       "ename": "AssertionError",
       "evalue": "",
       "output_type": "pyerr",
       "traceback": [
        "\u001b[0;31m---------------------------------------------------------------------------\u001b[0m\n\u001b[0;31mAssertionError\u001b[0m                            Traceback (most recent call last)",
        "\u001b[0;32m<ipython-input-9-d458666fddb2>\u001b[0m in \u001b[0;36m<module>\u001b[0;34m()\u001b[0m\n\u001b[1;32m     21\u001b[0m \u001b[0;34m\u001b[0m\u001b[0m\n\u001b[1;32m     22\u001b[0m \u001b[0;32mprint\u001b[0m \u001b[0mA\u001b[0m\u001b[0;34m[\u001b[0m\u001b[0;34m-\u001b[0m\u001b[0;36m1\u001b[0m\u001b[0;34m]\u001b[0m\u001b[0;34m,\u001b[0m \u001b[0mtarget_A\u001b[0m\u001b[0;34m\u001b[0m\u001b[0m\n\u001b[0;32m---> 23\u001b[0;31m \u001b[0;32massert\u001b[0m \u001b[0mstr\u001b[0m\u001b[0;34m(\u001b[0m\u001b[0mA\u001b[0m\u001b[0;34m[\u001b[0m\u001b[0;34m-\u001b[0m\u001b[0;36m1\u001b[0m\u001b[0;34m]\u001b[0m\u001b[0;34m)\u001b[0m \u001b[0;34m==\u001b[0m \u001b[0mtarget_A\u001b[0m\u001b[0;34m\u001b[0m\u001b[0m\n\u001b[0m",
        "\u001b[0;31mAssertionError\u001b[0m: "
       ]
      },
      {
       "output_type": "stream",
       "stream": "stdout",
       "text": [
        "2 variables computed in 2 rounds in 0.000917 s\n",
        "100u100u01111nu00u1110nu111u1un1 0000001110001111100010001001000n\n"
       ]
      }
     ],
     "prompt_number": 9
    },
    {
     "cell_type": "code",
     "collapsed": false,
     "input": [
      "# test a single bit\n",
      "\n",
      "G.reset()\n",
      "for a in A[0:5]:\n",
      "    a.fix('-')\n",
      "W.fix('-')\n",
      "T[0].fix(0b1001)\n",
      "\n",
      "G.compute()\n",
      "\n",
      "#print F[0].probs\n",
      "\n",
      "print T[0].probs\n",
      "print A[-1][0].probs\n",
      "print Pu[0].probs\n"
     ],
     "language": "python",
     "metadata": {},
     "outputs": [
      {
       "output_type": "stream",
       "stream": "stdout",
       "text": [
        "2 variables computed in 2 rounds in 0.000674 s\n",
        "[0.0, 0.0, 0.0, 0.0, 0.0, 0.0, 0.0, 0.0, 0.0, 1.0, 0.0, 0.0, 0.0, 0.0, 0.0, 0.0]\n",
        "None\n",
        "None\n"
       ]
      }
     ],
     "prompt_number": 3
    },
    {
     "cell_type": "code",
     "collapsed": false,
     "input": [
      "G['Pu_0'].reset()\n",
      "fac = G['Pu_0'].inFactors[0]\n",
      "\n",
      "\n",
      "#print G['Pu_0'].probs"
     ],
     "language": "python",
     "metadata": {},
     "outputs": [
      {
       "ename": "KeyError",
       "evalue": "'Pu_0'",
       "output_type": "pyerr",
       "traceback": [
        "\u001b[0;31m---------------------------------------------------------------------------\u001b[0m\n\u001b[0;31mKeyError\u001b[0m                                  Traceback (most recent call last)",
        "\u001b[0;32m<ipython-input-10-87fa1670a6ac>\u001b[0m in \u001b[0;36m<module>\u001b[0;34m()\u001b[0m\n\u001b[0;32m----> 1\u001b[0;31m \u001b[0mG\u001b[0m\u001b[0;34m[\u001b[0m\u001b[0;34m'Pu_0'\u001b[0m\u001b[0;34m]\u001b[0m\u001b[0;34m.\u001b[0m\u001b[0mreset\u001b[0m\u001b[0;34m(\u001b[0m\u001b[0;34m)\u001b[0m\u001b[0;34m\u001b[0m\u001b[0m\n\u001b[0m\u001b[1;32m      2\u001b[0m \u001b[0mfac\u001b[0m \u001b[0;34m=\u001b[0m \u001b[0mG\u001b[0m\u001b[0;34m[\u001b[0m\u001b[0;34m'Pu_0'\u001b[0m\u001b[0;34m]\u001b[0m\u001b[0;34m.\u001b[0m\u001b[0minFactors\u001b[0m\u001b[0;34m[\u001b[0m\u001b[0;36m0\u001b[0m\u001b[0;34m]\u001b[0m\u001b[0;34m\u001b[0m\u001b[0m\n\u001b[1;32m      3\u001b[0m \u001b[0;34m\u001b[0m\u001b[0m\n\u001b[1;32m      4\u001b[0m \u001b[0;34m\u001b[0m\u001b[0m\n\u001b[1;32m      5\u001b[0m \u001b[0;31m#print G['Pu_0'].probs\u001b[0m\u001b[0;34m\u001b[0m\u001b[0;34m\u001b[0m\u001b[0m\n",
        "\u001b[0;32m/home/ghotz/sha1/collfun/factorgraph.pyc\u001b[0m in \u001b[0;36m__getitem__\u001b[0;34m(self, key)\u001b[0m\n\u001b[1;32m    194\u001b[0m \u001b[0;34m\u001b[0m\u001b[0m\n\u001b[1;32m    195\u001b[0m   \u001b[0;32mdef\u001b[0m \u001b[0m__getitem__\u001b[0m\u001b[0;34m(\u001b[0m\u001b[0mself\u001b[0m\u001b[0;34m,\u001b[0m \u001b[0mkey\u001b[0m\u001b[0;34m)\u001b[0m\u001b[0;34m:\u001b[0m\u001b[0;34m\u001b[0m\u001b[0m\n\u001b[0;32m--> 196\u001b[0;31m     \u001b[0;32mreturn\u001b[0m \u001b[0mself\u001b[0m\u001b[0;34m.\u001b[0m\u001b[0mvariables\u001b[0m\u001b[0;34m[\u001b[0m\u001b[0mkey\u001b[0m\u001b[0;34m]\u001b[0m\u001b[0;34m\u001b[0m\u001b[0m\n\u001b[0m\u001b[1;32m    197\u001b[0m \u001b[0;34m\u001b[0m\u001b[0m\n\u001b[1;32m    198\u001b[0m   \u001b[0;32mdef\u001b[0m \u001b[0mreset\u001b[0m\u001b[0;34m(\u001b[0m\u001b[0mself\u001b[0m\u001b[0;34m)\u001b[0m\u001b[0;34m:\u001b[0m\u001b[0;34m\u001b[0m\u001b[0m\n",
        "\u001b[0;31mKeyError\u001b[0m: 'Pu_0'"
       ]
      }
     ],
     "prompt_number": 10
    },
    {
     "cell_type": "code",
     "collapsed": false,
     "input": [
      "#def get_factor_graph_schedule(root):\n",
      "    \n",
      "\"\"\"\n",
      "test_A = [\n",
      "    \"-\"*32,\n",
      "    \"-\"*32,\n",
      "    \"-\"*32,\n",
      "    \"-\"*32,\n",
      "    \"-\"*32]\n",
      "test_W = \"0---------------------1010101n11\"\n",
      "target_A = \"-\"*29 + \"n--\"\n",
      "\"\"\"\n",
      "\n",
      "# should be -4.0\n",
      "test_A = [\n",
      "    \"0000001110001111100010001001000n\",\n",
      "    \"0n0010010100001010110-00011u0un0\",\n",
      "    \"1u10100001110010100-1un110nuu110\",\n",
      "    \"1un0010110011110un1100-0n1n11nu1\",\n",
      "    \"n1u10110101un00010nu10u111000010\"]\n",
      "test_W = \"u1100101101000111111----1n101011\"\n",
      "target_A = \"100u100u01111nu00u1110nu111u1un1\"\n",
      "\n",
      "G.reset()\n",
      "for a, tA in zip(A, test_A):\n",
      "    a.fix(tA)\n",
      "W.fix(test_W)\n",
      "T.fix(target_A)\n",
      "Pu.fix(\"!\" + \"1\"*31)\n",
      "\n",
      "\"\"\"\n",
      "G.compute()\n",
      "\n",
      "print target_A\n",
      "print A[-1]\n",
      "print A[-1][0].probs, A[-1][1].probs, A[-1][2].probs, A[-1][3].probs, A[-1][4].probs\n",
      "\n",
      "print map(lambda x: Pu[x].probs, range(31))\n",
      "\"\"\"\n",
      "\n",
      "for i in range(31):\n",
      "    Pu[i].fix('1')\n",
      "\n",
      "#fac = Pu[0].inFactors[0]\n",
      "\n",
      "#print fac.compute()\n",
      "#print A[-1][0]\n",
      "\n",
      "G.compute()\n",
      "print A[-1]\n",
      "\n",
      "print math.log(Pu[-1].probs[1], 2)\n",
      "\n",
      "pass"
     ],
     "language": "python",
     "metadata": {},
     "outputs": [
      {
       "ename": "TypeError",
       "evalue": "'NoneType' object has no attribute '__getitem__'",
       "output_type": "pyerr",
       "traceback": [
        "\u001b[0;31m---------------------------------------------------------------------------\u001b[0m\n\u001b[0;31mTypeError\u001b[0m                                 Traceback (most recent call last)",
        "\u001b[0;32m<ipython-input-10-e97178ce64c8>\u001b[0m in \u001b[0;36m<module>\u001b[0;34m()\u001b[0m\n\u001b[1;32m     50\u001b[0m \u001b[0;32mprint\u001b[0m \u001b[0mA\u001b[0m\u001b[0;34m[\u001b[0m\u001b[0;34m-\u001b[0m\u001b[0;36m1\u001b[0m\u001b[0;34m]\u001b[0m\u001b[0;34m\u001b[0m\u001b[0m\n\u001b[1;32m     51\u001b[0m \u001b[0;34m\u001b[0m\u001b[0m\n\u001b[0;32m---> 52\u001b[0;31m \u001b[0;32mprint\u001b[0m \u001b[0mmath\u001b[0m\u001b[0;34m.\u001b[0m\u001b[0mlog\u001b[0m\u001b[0;34m(\u001b[0m\u001b[0mPu\u001b[0m\u001b[0;34m[\u001b[0m\u001b[0;34m-\u001b[0m\u001b[0;36m1\u001b[0m\u001b[0;34m]\u001b[0m\u001b[0;34m.\u001b[0m\u001b[0mprobs\u001b[0m\u001b[0;34m[\u001b[0m\u001b[0;36m1\u001b[0m\u001b[0;34m]\u001b[0m\u001b[0;34m,\u001b[0m \u001b[0;36m2\u001b[0m\u001b[0;34m)\u001b[0m\u001b[0;34m\u001b[0m\u001b[0m\n\u001b[0m\u001b[1;32m     53\u001b[0m \u001b[0;34m\u001b[0m\u001b[0m\n\u001b[1;32m     54\u001b[0m \u001b[0;32mpass\u001b[0m\u001b[0;34m\u001b[0m\u001b[0m\n",
        "\u001b[0;31mTypeError\u001b[0m: 'NoneType' object has no attribute '__getitem__'"
       ]
      },
      {
       "output_type": "stream",
       "stream": "stdout",
       "text": [
        "2 variables computed in 2 rounds in 0.000890 s\n",
        "100u100u01111nu00u1110nu111u1un1\n"
       ]
      }
     ],
     "prompt_number": 10
    },
    {
     "cell_type": "code",
     "collapsed": false,
     "input": [
      "print fac.matrix[2][1][1]\n",
      "fac.matrix.transpose((1,0,2))"
     ],
     "language": "python",
     "metadata": {},
     "outputs": [
      {
       "output_type": "stream",
       "stream": "stdout",
       "text": [
        "1.0\n"
       ]
      },
      {
       "metadata": {},
       "output_type": "pyout",
       "prompt_number": 44,
       "text": [
        "array([[[ 1.,  0.],\n",
        "        [ 0.,  1.],\n",
        "        [ 1.,  0.],\n",
        "        [ 0.,  1.],\n",
        "        [ 1.,  0.],\n",
        "        [ 0.,  1.],\n",
        "        [ 1.,  0.],\n",
        "        [ 0.,  1.],\n",
        "        [ 1.,  0.],\n",
        "        [ 0.,  1.],\n",
        "        [ 1.,  0.],\n",
        "        [ 0.,  1.],\n",
        "        [ 1.,  0.],\n",
        "        [ 0.,  1.],\n",
        "        [ 1.,  0.],\n",
        "        [ 0.,  1.]],\n",
        "\n",
        "       [[ 1.,  0.],\n",
        "        [ 1.,  0.],\n",
        "        [ 0.,  1.],\n",
        "        [ 0.,  1.],\n",
        "        [ 1.,  0.],\n",
        "        [ 1.,  0.],\n",
        "        [ 0.,  1.],\n",
        "        [ 0.,  1.],\n",
        "        [ 1.,  0.],\n",
        "        [ 1.,  0.],\n",
        "        [ 0.,  1.],\n",
        "        [ 0.,  1.],\n",
        "        [ 1.,  0.],\n",
        "        [ 1.,  0.],\n",
        "        [ 0.,  1.],\n",
        "        [ 0.,  1.]],\n",
        "\n",
        "       [[ 1.,  0.],\n",
        "        [ 1.,  0.],\n",
        "        [ 1.,  0.],\n",
        "        [ 1.,  0.],\n",
        "        [ 0.,  1.],\n",
        "        [ 0.,  1.],\n",
        "        [ 0.,  1.],\n",
        "        [ 0.,  1.],\n",
        "        [ 1.,  0.],\n",
        "        [ 1.,  0.],\n",
        "        [ 1.,  0.],\n",
        "        [ 1.,  0.],\n",
        "        [ 0.,  1.],\n",
        "        [ 0.,  1.],\n",
        "        [ 0.,  1.],\n",
        "        [ 0.,  1.]],\n",
        "\n",
        "       [[ 1.,  0.],\n",
        "        [ 1.,  0.],\n",
        "        [ 1.,  0.],\n",
        "        [ 1.,  0.],\n",
        "        [ 1.,  0.],\n",
        "        [ 1.,  0.],\n",
        "        [ 1.,  0.],\n",
        "        [ 1.,  0.],\n",
        "        [ 0.,  1.],\n",
        "        [ 0.,  1.],\n",
        "        [ 0.,  1.],\n",
        "        [ 0.,  1.],\n",
        "        [ 0.,  1.],\n",
        "        [ 0.,  1.],\n",
        "        [ 0.,  1.],\n",
        "        [ 0.,  1.]]])"
       ]
      }
     ],
     "prompt_number": 44
    },
    {
     "cell_type": "code",
     "collapsed": false,
     "input": [
      "#g = G.fgraph()\n",
      "g = G.graph()\n",
      "\n",
      "nx.write_dot(g,'tmp/test.dot')\n",
      "# use xdot tmp/test.dot\n",
      "\n",
      "# same layout using matplotlib with no labels\n",
      "#plt.title(\"draw_networkx\")\n",
      "#pos=nx.graphviz_layout(g, prog='dot')\n",
      "#nx.draw(g, pos, with_labels=True, arrows=True)\n"
     ],
     "language": "python",
     "metadata": {},
     "outputs": [],
     "prompt_number": 13
    },
    {
     "cell_type": "code",
     "collapsed": false,
     "input": [
      "# FUCK CYCLES\n",
      "\n",
      "#print nx.algorithms.cycles.cycle_basis(g.to_undirected())\n",
      "\n",
      "assert len(nx.algorithms.cycles.cycle_basis(g.to_undirected())) == 0"
     ],
     "language": "python",
     "metadata": {},
     "outputs": [],
     "prompt_number": 30
    },
    {
     "cell_type": "code",
     "collapsed": false,
     "input": [
      "\n",
      "for i in range(32):\n",
      "    print i, Pu[i].probs, A[-1][i].probs"
     ],
     "language": "python",
     "metadata": {},
     "outputs": [
      {
       "ename": "IndexError",
       "evalue": "list index out of range",
       "output_type": "pyerr",
       "traceback": [
        "\u001b[0;31m---------------------------------------------------------------------------\u001b[0m\n\u001b[0;31mIndexError\u001b[0m                                Traceback (most recent call last)",
        "\u001b[0;32m<ipython-input-12-6b0cf459b788>\u001b[0m in \u001b[0;36m<module>\u001b[0;34m()\u001b[0m\n\u001b[1;32m      1\u001b[0m \u001b[0;34m\u001b[0m\u001b[0m\n\u001b[1;32m      2\u001b[0m \u001b[0;32mfor\u001b[0m \u001b[0mi\u001b[0m \u001b[0;32min\u001b[0m \u001b[0mrange\u001b[0m\u001b[0;34m(\u001b[0m\u001b[0;36m32\u001b[0m\u001b[0;34m)\u001b[0m\u001b[0;34m:\u001b[0m\u001b[0;34m\u001b[0m\u001b[0m\n\u001b[0;32m----> 3\u001b[0;31m     \u001b[0;32mprint\u001b[0m \u001b[0mi\u001b[0m\u001b[0;34m,\u001b[0m \u001b[0mPu\u001b[0m\u001b[0;34m[\u001b[0m\u001b[0mi\u001b[0m\u001b[0;34m]\u001b[0m\u001b[0;34m.\u001b[0m\u001b[0mprobs\u001b[0m\u001b[0;34m,\u001b[0m \u001b[0mA\u001b[0m\u001b[0;34m[\u001b[0m\u001b[0;34m-\u001b[0m\u001b[0;36m1\u001b[0m\u001b[0;34m]\u001b[0m\u001b[0;34m[\u001b[0m\u001b[0mi\u001b[0m\u001b[0;34m]\u001b[0m\u001b[0;34m.\u001b[0m\u001b[0mprobs\u001b[0m\u001b[0;34m\u001b[0m\u001b[0m\n\u001b[0m",
        "\u001b[0;32m<ipython-input-8-cafd598c000f>\u001b[0m in \u001b[0;36m__getitem__\u001b[0;34m(self, key)\u001b[0m\n\u001b[1;32m     10\u001b[0m \u001b[0;34m\u001b[0m\u001b[0m\n\u001b[1;32m     11\u001b[0m     \u001b[0;32mdef\u001b[0m \u001b[0m__getitem__\u001b[0m\u001b[0;34m(\u001b[0m\u001b[0mself\u001b[0m\u001b[0;34m,\u001b[0m \u001b[0mkey\u001b[0m\u001b[0;34m)\u001b[0m\u001b[0;34m:\u001b[0m\u001b[0;34m\u001b[0m\u001b[0m\n\u001b[0;32m---> 12\u001b[0;31m         \u001b[0;32mreturn\u001b[0m \u001b[0mself\u001b[0m\u001b[0;34m.\u001b[0m\u001b[0mvariables\u001b[0m\u001b[0;34m[\u001b[0m\u001b[0mkey\u001b[0m\u001b[0;34m]\u001b[0m\u001b[0;34m\u001b[0m\u001b[0m\n\u001b[0m\u001b[1;32m     13\u001b[0m \u001b[0;34m\u001b[0m\u001b[0m\n\u001b[1;32m     14\u001b[0m     \u001b[0;32mdef\u001b[0m \u001b[0mfix\u001b[0m\u001b[0;34m(\u001b[0m\u001b[0mself\u001b[0m\u001b[0;34m,\u001b[0m \u001b[0ms\u001b[0m\u001b[0;34m)\u001b[0m\u001b[0;34m:\u001b[0m\u001b[0;34m\u001b[0m\u001b[0m\n",
        "\u001b[0;31mIndexError\u001b[0m: list index out of range"
       ]
      },
      {
       "output_type": "stream",
       "stream": "stdout",
       "text": [
        "0 None None\n",
        "1 None None\n",
        "2 None None\n",
        "3 None None\n",
        "4"
       ]
      }
     ],
     "prompt_number": 12
    },
    {
     "cell_type": "code",
     "collapsed": false,
     "input": [],
     "language": "python",
     "metadata": {},
     "outputs": []
    }
   ],
   "metadata": {}
  }
 ]
}