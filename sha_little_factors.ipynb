{
 "metadata": {
  "name": ""
 },
 "nbformat": 3,
 "nbformat_minor": 0,
 "worksheets": [
  {
   "cells": [
    {
     "cell_type": "code",
     "collapsed": false,
     "input": [
      "%pylab inline\n",
      "from factorgraph import *\n",
      "from shafactors import *"
     ],
     "language": "python",
     "metadata": {},
     "outputs": [
      {
       "output_type": "stream",
       "stream": "stdout",
       "text": [
        "Populating the interactive namespace from numpy and matplotlib\n",
        "    f_if   8  16     256"
       ]
      },
      {
       "output_type": "stream",
       "stream": "stdout",
       "text": [
        " [2, 2, 2] [2]\n",
        "   f_maj   8  16     256 [2, 2, 2] [2]\n",
        "   f_xor   8  16     256 [2, 2, 2] [2]\n",
        "   add_0  16 160   25600 [2, 2, 2, 2] [10]\n",
        "  addc_0  80 800  640000"
       ]
      },
      {
       "output_type": "stream",
       "stream": "stdout",
       "text": [
        " [2, 2, 2, 2, 5] [10]\n",
        "   add_1  16 160   25600 [2, 2, 2, 2] [10]\n",
        "  addc_1  80 800  640000"
       ]
      },
      {
       "output_type": "stream",
       "stream": "stdout",
       "text": [
        " [2, 2, 2, 2, 5] [10]\n",
        "   carry  10  50    2500 [10] [5]\n",
        "     lsb  10  20     400 [10] [2]\n",
        "    xor5  16  32    1024 [2, 2, 2, 2] [2]\n",
        "   equal  16  32      32 [4, 4] [2]\n",
        "built factor matrices in 0.566316 s\n"
       ]
      }
     ],
     "prompt_number": 1
    },
    {
     "cell_type": "code",
     "collapsed": false,
     "input": [
      "# build single round factorgraph\n",
      "\n",
      "bits = 32\n",
      "G = FactorGraph()\n",
      "\n",
      "class FactorByte(object):\n",
      "    def __init__(self, G, name, dim, bits):\n",
      "        self.G = G\n",
      "        self.name = name\n",
      "        self.variables = [G.addVariable(\"%s_%d\" % (name, i), dim) for i in range(bits)]\n",
      "\n",
      "    def fix(self, s):\n",
      "        for v, c in zip(self.variables, s[::-1]):\n",
      "            v.fix(c)\n",
      "    \n",
      "    def __str__(self):\n",
      "        return ''.join(map(str, self.variables))[::-1]\n",
      "        \n",
      "            \n",
      "\n",
      "# create the bytes\n",
      "rnd = 0\n",
      "W = FactorByte(G, \"W_%d\" % rnd, 2*2, 32)\n",
      "F = FactorByte(G, \"F_%d\" % rnd, 2*2, 32)\n",
      "O = FactorByte(G, \"O_%d\" % rnd, 10*10, 32)\n",
      "C = FactorByte(G, \"C_%d\" % rnd, 5*5, 31)\n",
      "A = [FactorByte(G, \"A_%d\" % j, 2*2, 32) for j in range(rnd-4, rnd+2)]\n",
      "\n",
      "\n",
      "# the added factors for one round form a polytree\n",
      "add_sha1_factors_for_round(G, rnd)\n",
      "T = FactorByte(G, \"T_%d\" % rnd, 2*2, 32)\n",
      "Pu = G.addVariable(\"Pu\", 2)\n",
      "\n",
      "\"\"\"\n",
      "for i in range(32):\n",
      "    G.addFactor(equal, [\"A_%d_%d\" % (rnd+1, i), \"T_%d_%d\" % (rnd, i), \"Pu\"])\n",
      "\"\"\"\n",
      "\n",
      "pass"
     ],
     "language": "python",
     "metadata": {},
     "outputs": [],
     "prompt_number": 6
    },
    {
     "cell_type": "code",
     "collapsed": false,
     "input": [
      "test_A = [\n",
      "    \"-\"*32,\n",
      "    \"-\"*32,\n",
      "    \"-\"*32,\n",
      "    \"-\"*32,\n",
      "    \"-\"*32]\n",
      "test_W = \"0---------------------1010101n11\"\n",
      "target_A = \"-\"*29 + \"n--\"\n",
      "\n",
      "G.reset()\n",
      "for a, tA in zip(A, test_A):\n",
      "    a.fix(tA)\n",
      "W.fix(test_W)\n",
      "\n",
      "G.compute()\n",
      "\n",
      "print target_A\n",
      "print A[-1]\n"
     ],
     "language": "python",
     "metadata": {},
     "outputs": [
      {
       "output_type": "stream",
       "stream": "stdout",
       "text": [
        "95 variables computed in 2 rounds in 0.019449 s\n",
        "-----------------------------n--\n",
        "?????????????????????????????x--\n"
       ]
      }
     ],
     "prompt_number": 14
    },
    {
     "cell_type": "code",
     "collapsed": false,
     "input": [
      "# test for a single round\n",
      "\n",
      "test_A = [\n",
      "    \"00001111010010111000011111000011\",\n",
      "    \"01000000110010010101000111011000\",\n",
      "    \"01100010111010110111001111111010\",\n",
      "    \"11101111110011011010101110001001\",\n",
      "    \"01100111010001010010001100000001\"]\n",
      "test_W = \"011000111101101011101111110111nu\"\n",
      "target_A = \"0000001110001111100010001001000n\"\n",
      "\n",
      "G.reset()\n",
      "\n",
      "for a, tA in zip(A, test_A):\n",
      "    a.fix(tA)\n",
      "W.fix(test_W)\n",
      "T.fix(target_A)\n",
      "\n",
      "G.compute()\n",
      "\n",
      "print A[-1], target_A"
     ],
     "language": "python",
     "metadata": {},
     "outputs": [
      {
       "output_type": "stream",
       "stream": "stdout",
       "text": [
        "127 variables computed in 2 rounds in 0.080493 s\n",
        "0000001110001111100010001001000n 0000001110001111100010001001000n\n"
       ]
      }
     ],
     "prompt_number": 7
    },
    {
     "cell_type": "code",
     "collapsed": false,
     "input": [],
     "language": "python",
     "metadata": {},
     "outputs": []
    },
    {
     "cell_type": "code",
     "collapsed": false,
     "input": [
      "g = G.graph()\n",
      "\n",
      "nx.write_dot(g,'tmp/test.dot')\n",
      "# use xdot tmp/test.dot\n",
      "\n",
      "# same layout using matplotlib with no labels\n",
      "#plt.title(\"draw_networkx\")\n",
      "#pos=nx.graphviz_layout(g, prog='dot')\n",
      "#nx.draw(g, pos, with_labels=True, arrows=True)\n"
     ],
     "language": "python",
     "metadata": {},
     "outputs": [],
     "prompt_number": 9
    },
    {
     "cell_type": "code",
     "collapsed": false,
     "input": [
      "nx.algorithms.cycles.cycle_basis(g.to_undirected())"
     ],
     "language": "python",
     "metadata": {},
     "outputs": [
      {
       "metadata": {},
       "output_type": "pyout",
       "prompt_number": 10,
       "text": [
        "[]"
       ]
      }
     ],
     "prompt_number": 10
    },
    {
     "cell_type": "code",
     "collapsed": false,
     "input": [],
     "language": "python",
     "metadata": {},
     "outputs": []
    }
   ],
   "metadata": {}
  }
 ]
}