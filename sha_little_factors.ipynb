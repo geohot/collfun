{
 "metadata": {
  "name": ""
 },
 "nbformat": 3,
 "nbformat_minor": 0,
 "worksheets": [
  {
   "cells": [
    {
     "cell_type": "code",
     "collapsed": false,
     "input": [
      "%pylab inline\n",
      "from factorgraph import *\n",
      "from shafactors import *"
     ],
     "language": "python",
     "metadata": {},
     "outputs": [
      {
       "output_type": "stream",
       "stream": "stdout",
       "text": [
        "Populating the interactive namespace from numpy and matplotlib\n",
        "    f_if   8  16     256"
       ]
      },
      {
       "output_type": "stream",
       "stream": "stdout",
       "text": [
        " [2, 2, 2] [2]\n",
        "   f_maj   8  16     256 [2, 2, 2] [2]\n",
        "   f_xor   8  16     256 [2, 2, 2] [2]\n",
        "   add_0  16 160   25600 [2, 2, 2, 2] [10]\n",
        "  addc_0  80 800  640000"
       ]
      },
      {
       "output_type": "stream",
       "stream": "stdout",
       "text": [
        " [2, 2, 2, 2, 5] [10]\n",
        "   add_1  16 160   25600 [2, 2, 2, 2] [10]\n",
        "  addc_1  80 800  640000"
       ]
      },
      {
       "output_type": "stream",
       "stream": "stdout",
       "text": [
        " [2, 2, 2, 2, 5] [10]\n",
        "   carry  10  50    2500 [10] [5]\n",
        "     lsb  10  20     400 [10] [2]\n",
        "    xor5  16  32    1024 [2, 2, 2, 2] [2]\n",
        " follows  64 128     128 [16, 4] [2]\n",
        "built factor matrices in 0.623747 s\n"
       ]
      }
     ],
     "prompt_number": 4
    },
    {
     "cell_type": "code",
     "collapsed": false,
     "input": [
      "# build single round factorgraph\n",
      "\n",
      "G = FactorGraph()\n",
      "\n",
      "class FactorByte(object):\n",
      "    def __init__(self, G, name, dim, bits):\n",
      "        self.G = G\n",
      "        self.name = name\n",
      "        self.variables = [G.addVariable(\"%s_%d\" % (name, i), dim) for i in range(bits)]\n",
      "    \n",
      "    def __getitem__(self, key):\n",
      "        return self.variables[key]\n",
      "        \n",
      "    def fix(self, s):\n",
      "        for v, c in zip(self.variables, s[::-1]):\n",
      "            v.fix(c)\n",
      "    \n",
      "    def __str__(self):\n",
      "        return ''.join(map(str, self.variables))[::-1]\n",
      "            \n",
      "\n",
      "# create the bytes\n",
      "#rnd, bits = 50, 32\n",
      "rnd, bits = 0, 8\n",
      "#rnd, bits = 0, 1\n",
      "rnd_count = 2\n",
      "\n",
      "for j in range(rnd_count):\n",
      "    W = FactorByte(G, \"W_%d\" % (rnd+j), 2*2, bits)\n",
      "    F = FactorByte(G, \"F_%d\" % (rnd+j), 2*2, bits)\n",
      "    O = FactorByte(G, \"O_%d\" % (rnd+j), 10*10, bits)\n",
      "    C = FactorByte(G, \"C_%d\" % (rnd+j), 5*5, bits-1)\n",
      "A = [FactorByte(G, \"A_%d\" % j, 2*2, bits) for j in range(rnd-4, rnd+1+rnd_count)]\n",
      "\n",
      "\n",
      "# the added factors for one round form a polytree\n",
      "for j in range(rnd_count):\n",
      "    add_sha1_factors_for_round(G, rnd+j, bits)\n",
      "\n",
      "\"\"\"\n",
      "T = FactorByte(G, \"T_%d\" % (rnd+1), 16, bits)\n",
      "#Pu = G.addVariable(\"Pu\", 2)\n",
      "Pu = FactorByte(G, \"Pu\", 2, bits)\n",
      "\n",
      "for i in range(bits):\n",
      "    G.addFactor(follows,\n",
      "        [\"T_%d_%d\" % (rnd+1, i),\n",
      "         \"A_%d_%d\" % (rnd+1, i),\n",
      "         \"Pu_%d\" % i])\n",
      "\"\"\"\n",
      "\n",
      "pass"
     ],
     "language": "python",
     "metadata": {},
     "outputs": [],
     "prompt_number": 31
    },
    {
     "cell_type": "code",
     "collapsed": false,
     "input": [
      "# test a single bit\n",
      "\n",
      "G.reset()\n",
      "for a in A[0:5]:\n",
      "    a.fix('-')\n",
      "W.fix('-')\n",
      "T[0].fix(0b1001)\n",
      "\n",
      "G.compute()\n",
      "\n",
      "\n",
      "#print F[0].probs\n",
      "\n",
      "print T[0].probs\n",
      "print A[-1][0].probs\n",
      "print Pu[0].probs\n"
     ],
     "language": "python",
     "metadata": {},
     "outputs": [
      {
       "ename": "NameError",
       "evalue": "name 'T' is not defined",
       "output_type": "pyerr",
       "traceback": [
        "\u001b[0;31m---------------------------------------------------------------------------\u001b[0m\n\u001b[0;31mNameError\u001b[0m                                 Traceback (most recent call last)",
        "\u001b[0;32m<ipython-input-26-e0fa68e3ca86>\u001b[0m in \u001b[0;36m<module>\u001b[0;34m()\u001b[0m\n\u001b[1;32m      5\u001b[0m     \u001b[0ma\u001b[0m\u001b[0;34m.\u001b[0m\u001b[0mfix\u001b[0m\u001b[0;34m(\u001b[0m\u001b[0;34m'-'\u001b[0m\u001b[0;34m)\u001b[0m\u001b[0;34m\u001b[0m\u001b[0m\n\u001b[1;32m      6\u001b[0m \u001b[0mW\u001b[0m\u001b[0;34m.\u001b[0m\u001b[0mfix\u001b[0m\u001b[0;34m(\u001b[0m\u001b[0;34m'-'\u001b[0m\u001b[0;34m)\u001b[0m\u001b[0;34m\u001b[0m\u001b[0m\n\u001b[0;32m----> 7\u001b[0;31m \u001b[0mT\u001b[0m\u001b[0;34m[\u001b[0m\u001b[0;36m0\u001b[0m\u001b[0;34m]\u001b[0m\u001b[0;34m.\u001b[0m\u001b[0mfix\u001b[0m\u001b[0;34m(\u001b[0m\u001b[0;36m0b1001\u001b[0m\u001b[0;34m)\u001b[0m\u001b[0;34m\u001b[0m\u001b[0m\n\u001b[0m\u001b[1;32m      8\u001b[0m \u001b[0;34m\u001b[0m\u001b[0m\n\u001b[1;32m      9\u001b[0m \u001b[0mG\u001b[0m\u001b[0;34m.\u001b[0m\u001b[0mcompute\u001b[0m\u001b[0;34m(\u001b[0m\u001b[0;34m)\u001b[0m\u001b[0;34m\u001b[0m\u001b[0m\n",
        "\u001b[0;31mNameError\u001b[0m: name 'T' is not defined"
       ]
      }
     ],
     "prompt_number": 26
    },
    {
     "cell_type": "code",
     "collapsed": false,
     "input": [
      "G['Pu_0'].reset()\n",
      "fac = G['Pu_0'].inFactors[0]\n",
      "\n",
      "\n",
      "#print G['Pu_0'].probs"
     ],
     "language": "python",
     "metadata": {},
     "outputs": [
      {
       "metadata": {},
       "output_type": "pyout",
       "prompt_number": 31,
       "text": [
        "array([[ 0.5,  0.5],\n",
        "       [ 1. ,  0. ],\n",
        "       [ 1. ,  0. ],\n",
        "       [ 0.5,  0.5]])"
       ]
      }
     ],
     "prompt_number": 31
    },
    {
     "cell_type": "code",
     "collapsed": false,
     "input": [
      "# test for a single round\n",
      "\n",
      "test_A = [\n",
      "    \"00001111010010111000011111000011\",\n",
      "    \"01000000110010010101000111011000\",\n",
      "    \"01100010111010110111001111111010\",\n",
      "    \"11101111110011011010101110001001\",\n",
      "    \"01100111010001010010001100000001\"]\n",
      "test_W = \"011000111101101011101111110111nu\"\n",
      "target_A = \"0000001110001111100010001001000n\"\n",
      "\n",
      "G.reset()\n",
      "\n",
      "for a, tA in zip(A, test_A):\n",
      "    a.fix(tA)\n",
      "W.fix(test_W)\n",
      "T.fix(target_A)\n",
      "#Pu.fix(\"!\" + \"1\"*31)\n",
      "\n",
      "G.compute()\n",
      "\n",
      "\n",
      "print A[-1], target_A\n",
      "assert str(A[-1]) == target_A\n",
      "\n",
      "\n"
     ],
     "language": "python",
     "metadata": {},
     "outputs": [
      {
       "output_type": "stream",
       "stream": "stdout",
       "text": [
        "159 variables computed in 2 rounds in 0.081211 s\n",
        "0000001110001111100010001001000n 0000001110001111100010001001000n\n"
       ]
      }
     ],
     "prompt_number": 13
    },
    {
     "cell_type": "code",
     "collapsed": false,
     "input": [
      "#def get_factor_graph_schedule(root):\n",
      "    \n",
      "\"\"\"\n",
      "test_A = [\n",
      "    \"-\"*32,\n",
      "    \"-\"*32,\n",
      "    \"-\"*32,\n",
      "    \"-\"*32,\n",
      "    \"-\"*32]\n",
      "test_W = \"0---------------------1010101n11\"\n",
      "target_A = \"-\"*29 + \"n--\"\n",
      "\"\"\"\n",
      "\n",
      "# should be -4.0\n",
      "test_A = [\n",
      "    \"0000001110001111100010001001000n\",\n",
      "    \"0n0010010100001010110-00011u0un0\",\n",
      "    \"1u10100001110010100-1un110nuu110\",\n",
      "    \"1un0010110011110un1100-0n1n11nu1\",\n",
      "    \"n1u10110101un00010nu10u111000010\"]\n",
      "test_W = \"u1100101101000111111----1n101011\"\n",
      "target_A = \"100u100u01111nu00u1110nu111u1un1\"\n",
      "\n",
      "G.reset()\n",
      "for a, tA in zip(A, test_A):\n",
      "    a.fix(tA)\n",
      "W.fix(test_W)\n",
      "T.fix(target_A)\n",
      "\n",
      "\"\"\"\n",
      "G.compute()\n",
      "\n",
      "print target_A\n",
      "print A[-1]\n",
      "print A[-1][0].probs, A[-1][1].probs, A[-1][2].probs, A[-1][3].probs, A[-1][4].probs\n",
      "\n",
      "print map(lambda x: Pu[x].probs, range(31))\n",
      "\"\"\"\n",
      "\n",
      "for i in range(31):\n",
      "    Pu[i].fix('1')\n",
      "\n",
      "#fac = Pu[0].inFactors[0]\n",
      "\n",
      "#print fac.compute()\n",
      "#print A[-1][0]\n",
      "\n",
      "G.compute()\n",
      "print A[-1]\n",
      "\n",
      "print math.log(Pu[-1].probs[1], 2)\n",
      "\n",
      "pass"
     ],
     "language": "python",
     "metadata": {},
     "outputs": [
      {
       "output_type": "stream",
       "stream": "stdout",
       "text": [
        "128 variables computed in 3 rounds in 0.076672 s\n",
        "100u100u01111nu00u1110nu111u1un1\n",
        "-4.0\n"
       ]
      }
     ],
     "prompt_number": 14
    },
    {
     "cell_type": "code",
     "collapsed": false,
     "input": [
      "print fac.matrix[2][1][1]\n",
      "fac.matrix.transpose((1,0,2))"
     ],
     "language": "python",
     "metadata": {},
     "outputs": [
      {
       "output_type": "stream",
       "stream": "stdout",
       "text": [
        "1.0\n"
       ]
      },
      {
       "metadata": {},
       "output_type": "pyout",
       "prompt_number": 44,
       "text": [
        "array([[[ 1.,  0.],\n",
        "        [ 0.,  1.],\n",
        "        [ 1.,  0.],\n",
        "        [ 0.,  1.],\n",
        "        [ 1.,  0.],\n",
        "        [ 0.,  1.],\n",
        "        [ 1.,  0.],\n",
        "        [ 0.,  1.],\n",
        "        [ 1.,  0.],\n",
        "        [ 0.,  1.],\n",
        "        [ 1.,  0.],\n",
        "        [ 0.,  1.],\n",
        "        [ 1.,  0.],\n",
        "        [ 0.,  1.],\n",
        "        [ 1.,  0.],\n",
        "        [ 0.,  1.]],\n",
        "\n",
        "       [[ 1.,  0.],\n",
        "        [ 1.,  0.],\n",
        "        [ 0.,  1.],\n",
        "        [ 0.,  1.],\n",
        "        [ 1.,  0.],\n",
        "        [ 1.,  0.],\n",
        "        [ 0.,  1.],\n",
        "        [ 0.,  1.],\n",
        "        [ 1.,  0.],\n",
        "        [ 1.,  0.],\n",
        "        [ 0.,  1.],\n",
        "        [ 0.,  1.],\n",
        "        [ 1.,  0.],\n",
        "        [ 1.,  0.],\n",
        "        [ 0.,  1.],\n",
        "        [ 0.,  1.]],\n",
        "\n",
        "       [[ 1.,  0.],\n",
        "        [ 1.,  0.],\n",
        "        [ 1.,  0.],\n",
        "        [ 1.,  0.],\n",
        "        [ 0.,  1.],\n",
        "        [ 0.,  1.],\n",
        "        [ 0.,  1.],\n",
        "        [ 0.,  1.],\n",
        "        [ 1.,  0.],\n",
        "        [ 1.,  0.],\n",
        "        [ 1.,  0.],\n",
        "        [ 1.,  0.],\n",
        "        [ 0.,  1.],\n",
        "        [ 0.,  1.],\n",
        "        [ 0.,  1.],\n",
        "        [ 0.,  1.]],\n",
        "\n",
        "       [[ 1.,  0.],\n",
        "        [ 1.,  0.],\n",
        "        [ 1.,  0.],\n",
        "        [ 1.,  0.],\n",
        "        [ 1.,  0.],\n",
        "        [ 1.,  0.],\n",
        "        [ 1.,  0.],\n",
        "        [ 1.,  0.],\n",
        "        [ 0.,  1.],\n",
        "        [ 0.,  1.],\n",
        "        [ 0.,  1.],\n",
        "        [ 0.,  1.],\n",
        "        [ 0.,  1.],\n",
        "        [ 0.,  1.],\n",
        "        [ 0.,  1.],\n",
        "        [ 0.,  1.]]])"
       ]
      }
     ],
     "prompt_number": 44
    },
    {
     "cell_type": "code",
     "collapsed": false,
     "input": [
      "#g = G.fgraph()\n",
      "g = G.graph()\n",
      "\n",
      "nx.write_dot(g,'tmp/test.dot')\n",
      "# use xdot tmp/test.dot\n",
      "\n",
      "# same layout using matplotlib with no labels\n",
      "#plt.title(\"draw_networkx\")\n",
      "#pos=nx.graphviz_layout(g, prog='dot')\n",
      "#nx.draw(g, pos, with_labels=True, arrows=True)\n"
     ],
     "language": "python",
     "metadata": {},
     "outputs": [],
     "prompt_number": 32
    },
    {
     "cell_type": "code",
     "collapsed": false,
     "input": [
      "# FUCK CYCLES\n",
      "\n",
      "#print nx.algorithms.cycles.cycle_basis(g.to_undirected())\n",
      "\n",
      "assert len(nx.algorithms.cycles.cycle_basis(g.to_undirected())) == 0"
     ],
     "language": "python",
     "metadata": {},
     "outputs": [],
     "prompt_number": 30
    },
    {
     "cell_type": "code",
     "collapsed": false,
     "input": [
      "\n",
      "for i in range(32):\n",
      "    print i, Pu[i].probs, A[-1][i].probs"
     ],
     "language": "python",
     "metadata": {},
     "outputs": [
      {
       "output_type": "stream",
       "stream": "stdout",
       "text": [
        "0 [0.0, 1.0] [0.0, 0.0, 0.0, 1.0]\n",
        "1 [0.0, 1.0] [0.0, 1.0, 0.0, 0.0]\n",
        "2 [0.0, 1.0] [0.0, 0.0, 1.0, 0.0]\n",
        "3 [0.0, 1.0] [0.0, 0.0, 0.0, 1.0]\n",
        "4 [0.0, 1.0] [0.0, 0.0, 1.0, 0.0]\n",
        "5 [0.0, 1.0] [0.0, 0.0, 0.0, 1.0]\n",
        "6 [0.0, 1.0] [0.0, 0.0, 0.0, 1.0]\n",
        "7 [0.0, 1.0] [0.0, 0.0, 0.0, 1.0]\n",
        "8 [0.0, 1.0] [0.0, 0.0, 1.0, 0.0]\n",
        "9 [0.0, 1.0] [0.0, 1.0, 0.0, 0.0]\n",
        "10 [0.0, 1.0] [1.0, 0.0, 0.0, 0.0]\n",
        "11 [0.0, 1.0] [0.0, 0.0, 0.0, 1.0]\n",
        "12 [0.0, 1.0] [0.0, 0.0, 0.0, 1.0]\n",
        "13 [0.0, 1.0] [0.0, 0.0, 0.0, 1.0]\n",
        "14 [0.0, 1.0] [0.0, 0.0, 1.0, 0.0]\n",
        "15 [0.0, 1.0] [1.0, 0.0, 0.0, 0.0]\n",
        "16 [0.0, 1.0] [1.0, 0.0, 0.0, 0.0]\n",
        "17 [0.0, 1.0] [0.0, 0.0, 1.0, 0.0]\n",
        "18 [0.0, 1.0] [0.0, 1.0, 0.0, 0.0]\n",
        "19 [0.0, 1.0] [0.0, 0.0, 0.0, 1.0]\n",
        "20 [0.0, 1.0] [0.0, 0.0, 0.0, 1.0]\n",
        "21 [0.0, 1.0] [0.0, 0.0, 0.0, 1.0]\n",
        "22 [0.0, 1.0] [0.0, 0.0, 0.0, 1.0]\n",
        "23 [0.0, 1.0] [1.0, 0.0, 0.0, 0.0]\n",
        "24 [0.0, 1.0] [0.0, 0.0, 1.0, 0.0]\n",
        "25 [0.0, 1.0] [1.0, 0.0, 0.0, 0.0]\n",
        "26 [0.0, 1.0] [1.0, 0.0, 0.0, 0.0]\n",
        "27 [0.0, 1.0] [0.0, 0.0, 0.0, 1.0]\n",
        "28 [0.0, 1.0] [0.0, 0.0, 1.0, 0.0]\n",
        "29 [0.0, 1.0] [1.0, 0.0, 0.0, 0.0]\n",
        "30 [0.0, 1.0] [1.0, 0.0, 0.0, 0.0]\n",
        "31 [0.0, 0.0625] [0.0, 0.0, 0.0, 0.0625]\n"
       ]
      }
     ],
     "prompt_number": 16
    },
    {
     "cell_type": "code",
     "collapsed": false,
     "input": [],
     "language": "python",
     "metadata": {},
     "outputs": []
    }
   ],
   "metadata": {}
  }
 ]
}