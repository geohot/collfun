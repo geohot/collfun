{
 "metadata": {
  "name": ""
 },
 "nbformat": 3,
 "nbformat_minor": 0,
 "worksheets": [
  {
   "cells": [
    {
     "cell_type": "code",
     "collapsed": false,
     "input": [
      "%pylab inline\n",
      "from factorgraph import *\n",
      "from shafactors import *"
     ],
     "language": "python",
     "metadata": {},
     "outputs": [
      {
       "output_type": "stream",
       "stream": "stdout",
       "text": [
        "Populating the interactive namespace from numpy and matplotlib\n",
        "    f_if   8  16     256"
       ]
      },
      {
       "output_type": "stream",
       "stream": "stdout",
       "text": [
        " [2, 2, 2] [2]\n",
        "   f_maj   8  16     256 [2, 2, 2] [2]\n",
        "   f_xor   8  16     256 [2, 2, 2] [2]\n",
        "   add_0  16  32    1024 [2, 2, 2, 2] [2]\n",
        "  addc_0  80 160   25600"
       ]
      },
      {
       "output_type": "stream",
       "stream": "stdout",
       "text": [
        " [2, 2, 2, 2, 5] [2]\n",
        " carry_0  16  80    6400 [2, 2, 2, 2] [5]\n",
        "carryc_0  80 400  160000"
       ]
      },
      {
       "output_type": "stream",
       "stream": "stdout",
       "text": [
        " [2, 2, 2, 2, 5] [5]\n",
        "   add_1  16  32    1024 [2, 2, 2, 2] [2]\n",
        "  addc_1  80 160   25600"
       ]
      },
      {
       "output_type": "stream",
       "stream": "stdout",
       "text": [
        " [2, 2, 2, 2, 5] [2]\n",
        " carry_1  16  80    6400 [2, 2, 2, 2] [5]\n",
        "carryc_1  80 400  160000"
       ]
      },
      {
       "output_type": "stream",
       "stream": "stdout",
       "text": [
        " [2, 2, 2, 2, 5] [5]\n",
        "    xor5  16  32    1024 [2, 2, 2, 2] [2]\n",
        "   equal  16  32      32 [4, 4] [2]\n",
        "built factor matrices in 1.124576 s\n"
       ]
      }
     ],
     "prompt_number": 1
    },
    {
     "cell_type": "code",
     "collapsed": false,
     "input": [
      "# build single round factorgraph\n",
      "\n",
      "bits = 32\n",
      "G = FactorGraph()\n",
      "\n",
      "class FactorByte(object):\n",
      "    def __init__(self, G, name, dim, bits):\n",
      "        self.G = G\n",
      "        self.name = name\n",
      "        self.variables = [G.addVariable(\"%s_%d\" % (name, i), dim) for i in range(bits)]\n",
      "\n",
      "    def fix(self, s):\n",
      "        for v, c in zip(self.variables, s[::-1]):\n",
      "            v.fix(c)\n",
      "    \n",
      "    def __str__(self):\n",
      "        return ''.join(map(str, self.variables))[::-1]\n",
      "        \n",
      "            \n",
      "\n",
      "# create the bytes\n",
      "rnd = 50\n",
      "W = FactorByte(G, \"W_%d\" % rnd, 2*2, 32)\n",
      "F = FactorByte(G, \"F_%d\" % rnd, 2*2, 32)\n",
      "C = FactorByte(G, \"C_%d\" % rnd, 2*2, 31)\n",
      "A = [FactorByte(G, \"A_%d\" % j, 2*2, 32) for j in range(rnd-4, rnd+2)]\n",
      "T = FactorByte(G, \"T_%d\" % rnd, 2*2, 32)\n",
      "Pu = G.addVariable(\"Pu\", 2)\n",
      "\n",
      "# the added factors for one round form a polytree\n",
      "add_sha1_factors_for_round(G, rnd)\n",
      "\n",
      "for i in range(32):\n",
      "    G.addFactor(equal, [\"A_%d_%d\" % (rnd+1, i), \"T_%d_%d\" % (rnd, i), \"Pu\"])\n"
     ],
     "language": "python",
     "metadata": {},
     "outputs": [],
     "prompt_number": 13
    },
    {
     "cell_type": "code",
     "collapsed": false,
     "input": [
      "test_A = [\n",
      "    \"-\"*32,\n",
      "    \"-\"*32,\n",
      "    \"-\"*32,\n",
      "    \"-\"*32,\n",
      "    \"-\"*32]\n",
      "test_W = \"0---------------------1010101n11\"\n",
      "target_A = \"-\"*29 + \"n--\"\n",
      "\n",
      "G.reset()\n",
      "for a, tA in zip(A, test_A):\n",
      "    a.fix(tA)\n",
      "W.fix(test_W)\n",
      "\n",
      "G.compute()\n",
      "\n",
      "print target_A\n",
      "print A[-1]\n"
     ],
     "language": "python",
     "metadata": {},
     "outputs": [
      {
       "output_type": "stream",
       "stream": "stdout",
       "text": [
        "95 variables computed in 2 rounds in 0.019449 s\n",
        "-----------------------------n--\n",
        "?????????????????????????????x--\n"
       ]
      }
     ],
     "prompt_number": 14
    },
    {
     "cell_type": "code",
     "collapsed": false,
     "input": [
      "# test for a single round\n",
      "\n",
      "test_A = [\n",
      "    \"00001111010010111000011111000011\",\n",
      "    \"01000000110010010101000111011000\",\n",
      "    \"01100010111010110111001111111010\",\n",
      "    \"11101111110011011010101110001001\",\n",
      "    \"01100111010001010010001100000001\"]\n",
      "test_W = \"011000111101101011101111110111nu\"\n",
      "target_A = \"0000001110001111100010001001000n\"\n",
      "\n",
      "G.reset()\n",
      "\n",
      "for a, tA in zip(A, test_A):\n",
      "    a.fix(tA)\n",
      "W.fix(test_W)\n",
      "T.fix(target_A)\n",
      "\n",
      "G.compute()\n",
      "\n",
      "print A[-1], target_A"
     ],
     "language": "python",
     "metadata": {},
     "outputs": [
      {
       "output_type": "stream",
       "stream": "stdout",
       "text": [
        "95 variables computed in 2 rounds in 0.019809 s\n",
        "00111000001010001100101111010nuu 0000001110001111100010001001000n\n"
       ]
      }
     ],
     "prompt_number": 29
    },
    {
     "cell_type": "code",
     "collapsed": false,
     "input": [],
     "language": "python",
     "metadata": {},
     "outputs": []
    },
    {
     "cell_type": "code",
     "collapsed": false,
     "input": [
      "g = G.graph()\n",
      "\n",
      "nx.write_dot(g,'tmp/test.dot')\n",
      "# use xdot tmp/test.dot\n",
      "\n",
      "# same layout using matplotlib with no labels\n",
      "#plt.title(\"draw_networkx\")\n",
      "#pos=nx.graphviz_layout(g, prog='dot')\n",
      "#nx.draw(g, pos, with_labels=True, arrows=True)\n"
     ],
     "language": "python",
     "metadata": {},
     "outputs": [],
     "prompt_number": 15
    },
    {
     "cell_type": "code",
     "collapsed": false,
     "input": [
      "nx.simple_cycles(g.to_undirected()).next()"
     ],
     "language": "python",
     "metadata": {},
     "outputs": [
      {
       "ename": "NetworkXNotImplemented",
       "evalue": "not implemented for undirected type",
       "output_type": "pyerr",
       "traceback": [
        "\u001b[0;31m---------------------------------------------------------------------------\u001b[0m\n\u001b[0;31mNetworkXNotImplemented\u001b[0m                    Traceback (most recent call last)",
        "\u001b[0;32m<ipython-input-8-451bcdc67baf>\u001b[0m in \u001b[0;36m<module>\u001b[0;34m()\u001b[0m\n\u001b[0;32m----> 1\u001b[0;31m \u001b[0mnx\u001b[0m\u001b[0;34m.\u001b[0m\u001b[0msimple_cycles\u001b[0m\u001b[0;34m(\u001b[0m\u001b[0mg\u001b[0m\u001b[0;34m.\u001b[0m\u001b[0mto_undirected\u001b[0m\u001b[0;34m(\u001b[0m\u001b[0;34m)\u001b[0m\u001b[0;34m)\u001b[0m\u001b[0;34m.\u001b[0m\u001b[0mnext\u001b[0m\u001b[0;34m(\u001b[0m\u001b[0;34m)\u001b[0m\u001b[0;34m\u001b[0m\u001b[0m\n\u001b[0m",
        "\u001b[0;32m/usr/local/lib/python2.7/dist-packages/networkx/algorithms/cycles.pyc\u001b[0m in \u001b[0;36msimple_cycles\u001b[0;34m(G)\u001b[0m\n",
        "\u001b[0;32m/usr/local/lib/python2.7/dist-packages/networkx/utils/decorators.pyc\u001b[0m in \u001b[0;36m_not_implemented_for\u001b[0;34m(f, *args, **kwargs)\u001b[0m\n\u001b[1;32m     64\u001b[0m         \u001b[0;32mif\u001b[0m \u001b[0mmatch\u001b[0m\u001b[0;34m:\u001b[0m\u001b[0;34m\u001b[0m\u001b[0m\n\u001b[1;32m     65\u001b[0m             raise nx.NetworkXNotImplemented('not implemented for %s type'%\n\u001b[0;32m---> 66\u001b[0;31m                                             ' '.join(graph_types))\n\u001b[0m\u001b[1;32m     67\u001b[0m         \u001b[0;32melse\u001b[0m\u001b[0;34m:\u001b[0m\u001b[0;34m\u001b[0m\u001b[0m\n\u001b[1;32m     68\u001b[0m             \u001b[0;32mreturn\u001b[0m \u001b[0mf\u001b[0m\u001b[0;34m(\u001b[0m\u001b[0;34m*\u001b[0m\u001b[0margs\u001b[0m\u001b[0;34m,\u001b[0m\u001b[0;34m**\u001b[0m\u001b[0mkwargs\u001b[0m\u001b[0;34m)\u001b[0m\u001b[0;34m\u001b[0m\u001b[0m\n",
        "\u001b[0;31mNetworkXNotImplemented\u001b[0m: not implemented for undirected type"
       ]
      }
     ],
     "prompt_number": 8
    },
    {
     "cell_type": "code",
     "collapsed": false,
     "input": [],
     "language": "python",
     "metadata": {},
     "outputs": []
    }
   ],
   "metadata": {}
  }
 ]
}