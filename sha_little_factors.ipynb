{
 "metadata": {
  "name": ""
 },
 "nbformat": 3,
 "nbformat_minor": 0,
 "worksheets": [
  {
   "cells": [
    {
     "cell_type": "code",
     "collapsed": false,
     "input": [
      "%pylab inline\n",
      "from factorgraph import *\n",
      "from shafactors import *"
     ],
     "language": "python",
     "metadata": {},
     "outputs": [
      {
       "output_type": "stream",
       "stream": "stdout",
       "text": [
        "Populating the interactive namespace from numpy and matplotlib\n",
        "    f_if   8  16     256 [2, 2, 2] [2]\n",
        "   f_maj   8  16     256 [2, 2, 2] [2]\n",
        "   f_xor   8  16     256 [2, 2, 2] [2]\n",
        "   add_0  16 160   25600 [2, 2, 2, 2] [10]\n",
        "  addc_0  80 800  640000"
       ]
      },
      {
       "output_type": "stream",
       "stream": "stdout",
       "text": [
        " [2, 2, 2, 2, 5] [10]\n",
        "   add_1  16 160   25600 [2, 2, 2, 2] [10]\n",
        "  addc_1  80 800  640000"
       ]
      },
      {
       "output_type": "stream",
       "stream": "stdout",
       "text": [
        " [2, 2, 2, 2, 5] [10]\n",
        "   carry  10  50    2500 [10] [5]\n",
        "     lsb  10  20     400 [10] [2]\n",
        "carrylsb  20 100   10000 [10, 2] [5]\n",
        "    xor5  16  32    1024 [2, 2, 2, 2] [2]\n",
        " follows  64 128     128 [16, 4] [2]\n",
        "built factor matrices in 0.647957 s\n"
       ]
      }
     ],
     "prompt_number": 3
    },
    {
     "cell_type": "code",
     "collapsed": false,
     "input": [
      "# build single round factorgraph\n",
      "\n",
      "bits = 32\n",
      "G = FactorGraph()\n",
      "\n",
      "class FactorByte(object):\n",
      "    def __init__(self, G, name, dim, bits):\n",
      "        self.G = G\n",
      "        self.name = name\n",
      "        self.variables = [G.addVariable(\"%s_%d\" % (name, i), dim) for i in range(bits)]\n",
      "    \n",
      "    def __getitem__(self, key):\n",
      "        return self.variables[key]\n",
      "        \n",
      "    def fix(self, s):\n",
      "        for v, c in zip(self.variables, s[::-1]):\n",
      "            v.fix(c)\n",
      "    \n",
      "    def __str__(self):\n",
      "        return ''.join(map(str, self.variables))[::-1]\n",
      "            \n",
      "\n",
      "# create the bytes\n",
      "#rnd, bits = 50, 32\n",
      "rnd, bits = 0, 32\n",
      "#rnd, bits = 0, 1\n",
      "\n",
      "W = FactorByte(G, \"W_%d\" % rnd, 2*2, bits)\n",
      "F = FactorByte(G, \"F_%d\" % rnd, 2*2, bits)\n",
      "O = FactorByte(G, \"O_%d\" % rnd, 10*10, bits)\n",
      "C = FactorByte(G, \"C_%d\" % rnd, 5*5, bits-1)\n",
      "A = [FactorByte(G, \"A_%d\" % j, 2*2, bits) for j in range(rnd-4, rnd+2)]\n",
      "\n",
      "\n",
      "# the added factors for one round form a polytree\n",
      "add_sha1_factors_for_round(G, rnd, bits)\n",
      "T = FactorByte(G, \"T_%d\" % (rnd+1), 16, bits)\n",
      "#Pu = G.addVariable(\"Pu\", 2)\n",
      "Pu = FactorByte(G, \"Pu\", 2, bits)\n",
      "\n",
      "for i in range(bits):\n",
      "    G.addFactor(follows,\n",
      "        [\"T_%d_%d\" % (rnd+1, i),\n",
      "         \"A_%d_%d\" % (rnd+1, i),\n",
      "         \"Pu_%d\" % i])\n",
      "\n",
      "pass"
     ],
     "language": "python",
     "metadata": {},
     "outputs": [],
     "prompt_number": 12
    },
    {
     "cell_type": "code",
     "collapsed": false,
     "input": [
      "# test a single bit\n",
      "\n",
      "G.reset()\n",
      "for a in A[0:5]:\n",
      "    a.fix('-')\n",
      "W.fix('-')\n",
      "T[0].fix(0b1001)\n",
      "\n",
      "G.compute()\n",
      "\n",
      "\n",
      "#print F[0].probs\n",
      "\n",
      "print T[0].probs\n",
      "print A[-1][0].probs\n",
      "print Pu[0].probs\n"
     ],
     "language": "python",
     "metadata": {},
     "outputs": [
      {
       "output_type": "stream",
       "stream": "stdout",
       "text": [
        "4 variables computed in 2 rounds in 0.000586 s\n",
        "[0.0, 0.0, 0.0, 0.0, 0.0, 0.0, 0.0, 0.0, 0.0, 1.0, 0.0, 0.0, 0.0, 0.0, 0.0, 0.0]\n",
        "[0.5, 0.0, 0.0, 0.5]\n",
        "[0.0, 1.0]\n"
       ]
      }
     ],
     "prompt_number": 3
    },
    {
     "cell_type": "code",
     "collapsed": false,
     "input": [
      "G['Pu_0'].reset()\n",
      "fac = G['Pu_0'].inFactors[0]\n",
      "\n",
      "\n",
      "#print G['Pu_0'].probs"
     ],
     "language": "python",
     "metadata": {},
     "outputs": [
      {
       "metadata": {},
       "output_type": "pyout",
       "prompt_number": 31,
       "text": [
        "array([[ 0.5,  0.5],\n",
        "       [ 1. ,  0. ],\n",
        "       [ 1. ,  0. ],\n",
        "       [ 0.5,  0.5]])"
       ]
      }
     ],
     "prompt_number": 31
    },
    {
     "cell_type": "code",
     "collapsed": false,
     "input": [
      "# test for a single round\n",
      "\n",
      "test_A = [\n",
      "    \"00001111010010111000011111000011\",\n",
      "    \"01000000110010010101000111011000\",\n",
      "    \"01100010111010110111001111111010\",\n",
      "    \"11101111110011011010101110001001\",\n",
      "    \"01100111010001010010001100000001\"]\n",
      "test_W = \"011000111101101011101111110111nu\"\n",
      "target_A = \"0000001110001111100010001001000n\"\n",
      "\n",
      "G.reset()\n",
      "\n",
      "for a, tA in zip(A, test_A):\n",
      "    a.fix(tA)\n",
      "W.fix(test_W)\n",
      "T.fix(target_A)\n",
      "#Pu.fix(\"!\" + \"1\"*31)\n",
      "\n",
      "G.compute()\n",
      "\n",
      "\n",
      "print A[-1], target_A\n",
      "assert str(A[-1]) == target_A\n",
      "\n",
      "\n"
     ],
     "language": "python",
     "metadata": {},
     "outputs": [
      {
       "output_type": "stream",
       "stream": "stdout",
       "text": [
        "159 variables computed in 2 rounds in 0.081211 s\n",
        "0000001110001111100010001001000n 0000001110001111100010001001000n\n"
       ]
      }
     ],
     "prompt_number": 13
    },
    {
     "cell_type": "code",
     "collapsed": false,
     "input": [
      "#def get_factor_graph_schedule(root):\n",
      "    \n",
      "\"\"\"\n",
      "test_A = [\n",
      "    \"-\"*32,\n",
      "    \"-\"*32,\n",
      "    \"-\"*32,\n",
      "    \"-\"*32,\n",
      "    \"-\"*32]\n",
      "test_W = \"0---------------------1010101n11\"\n",
      "target_A = \"-\"*29 + \"n--\"\n",
      "\"\"\"\n",
      "\n",
      "# should be -4.0\n",
      "test_A = [\n",
      "    \"0000001110001111100010001001000n\",\n",
      "    \"0n0010010100001010110-00011u0un0\",\n",
      "    \"1u10100001110010100-1un110nuu110\",\n",
      "    \"1un0010110011110un1100-0n1n11nu1\",\n",
      "    \"n1u10110101un00010nu10u111000010\"]\n",
      "test_W = \"u1100101101000111111----1n101011\"\n",
      "target_A = \"100u100u01111nu00u1110nu111u1un1\"\n",
      "\n",
      "G.reset()\n",
      "for a, tA in zip(A, test_A):\n",
      "    a.fix(tA)\n",
      "W.fix(test_W)\n",
      "T.fix(target_A)\n",
      "\n",
      "\"\"\"\n",
      "G.compute()\n",
      "\n",
      "print target_A\n",
      "print A[-1]\n",
      "print A[-1][0].probs, A[-1][1].probs, A[-1][2].probs, A[-1][3].probs, A[-1][4].probs\n",
      "\n",
      "print map(lambda x: Pu[x].probs, range(31))\n",
      "\"\"\"\n",
      "\n",
      "for i in range(31):\n",
      "    Pu[i].fix('1')\n",
      "\n",
      "#fac = Pu[0].inFactors[0]\n",
      "\n",
      "#print fac.compute()\n",
      "#print A[-1][0]\n",
      "\n",
      "G.compute()\n",
      "print A[-1]\n",
      "\n",
      "print math.log(Pu[-1].probs[1], 2)\n",
      "\n",
      "pass"
     ],
     "language": "python",
     "metadata": {},
     "outputs": [
      {
       "output_type": "stream",
       "stream": "stdout",
       "text": [
        "128 variables computed in 3 rounds in 0.076672 s\n",
        "100u100u01111nu00u1110nu111u1un1\n",
        "-4.0\n"
       ]
      }
     ],
     "prompt_number": 14
    },
    {
     "cell_type": "code",
     "collapsed": false,
     "input": [
      "print fac.matrix[2][1][1]\n",
      "fac.matrix.transpose((1,0,2))"
     ],
     "language": "python",
     "metadata": {},
     "outputs": [
      {
       "output_type": "stream",
       "stream": "stdout",
       "text": [
        "1.0\n"
       ]
      },
      {
       "metadata": {},
       "output_type": "pyout",
       "prompt_number": 44,
       "text": [
        "array([[[ 1.,  0.],\n",
        "        [ 0.,  1.],\n",
        "        [ 1.,  0.],\n",
        "        [ 0.,  1.],\n",
        "        [ 1.,  0.],\n",
        "        [ 0.,  1.],\n",
        "        [ 1.,  0.],\n",
        "        [ 0.,  1.],\n",
        "        [ 1.,  0.],\n",
        "        [ 0.,  1.],\n",
        "        [ 1.,  0.],\n",
        "        [ 0.,  1.],\n",
        "        [ 1.,  0.],\n",
        "        [ 0.,  1.],\n",
        "        [ 1.,  0.],\n",
        "        [ 0.,  1.]],\n",
        "\n",
        "       [[ 1.,  0.],\n",
        "        [ 1.,  0.],\n",
        "        [ 0.,  1.],\n",
        "        [ 0.,  1.],\n",
        "        [ 1.,  0.],\n",
        "        [ 1.,  0.],\n",
        "        [ 0.,  1.],\n",
        "        [ 0.,  1.],\n",
        "        [ 1.,  0.],\n",
        "        [ 1.,  0.],\n",
        "        [ 0.,  1.],\n",
        "        [ 0.,  1.],\n",
        "        [ 1.,  0.],\n",
        "        [ 1.,  0.],\n",
        "        [ 0.,  1.],\n",
        "        [ 0.,  1.]],\n",
        "\n",
        "       [[ 1.,  0.],\n",
        "        [ 1.,  0.],\n",
        "        [ 1.,  0.],\n",
        "        [ 1.,  0.],\n",
        "        [ 0.,  1.],\n",
        "        [ 0.,  1.],\n",
        "        [ 0.,  1.],\n",
        "        [ 0.,  1.],\n",
        "        [ 1.,  0.],\n",
        "        [ 1.,  0.],\n",
        "        [ 1.,  0.],\n",
        "        [ 1.,  0.],\n",
        "        [ 0.,  1.],\n",
        "        [ 0.,  1.],\n",
        "        [ 0.,  1.],\n",
        "        [ 0.,  1.]],\n",
        "\n",
        "       [[ 1.,  0.],\n",
        "        [ 1.,  0.],\n",
        "        [ 1.,  0.],\n",
        "        [ 1.,  0.],\n",
        "        [ 1.,  0.],\n",
        "        [ 1.,  0.],\n",
        "        [ 1.,  0.],\n",
        "        [ 1.,  0.],\n",
        "        [ 0.,  1.],\n",
        "        [ 0.,  1.],\n",
        "        [ 0.,  1.],\n",
        "        [ 0.,  1.],\n",
        "        [ 0.,  1.],\n",
        "        [ 0.,  1.],\n",
        "        [ 0.,  1.],\n",
        "        [ 0.,  1.]]])"
       ]
      }
     ],
     "prompt_number": 44
    },
    {
     "cell_type": "code",
     "collapsed": false,
     "input": [
      "g = G.fgraph()\n",
      "\n",
      "nx.write_dot(g,'tmp/test.dot')\n",
      "# use xdot tmp/test.dot\n",
      "\n",
      "# same layout using matplotlib with no labels\n",
      "#plt.title(\"draw_networkx\")\n",
      "#pos=nx.graphviz_layout(g, prog='dot')\n",
      "#nx.draw(g, pos, with_labels=True, arrows=True)\n"
     ],
     "language": "python",
     "metadata": {},
     "outputs": [],
     "prompt_number": 12
    },
    {
     "cell_type": "code",
     "collapsed": false,
     "input": [
      "# FUCK CYCLES\n",
      "\n",
      "assert len(nx.algorithms.cycles.cycle_basis(g.to_undirected())) == 0"
     ],
     "language": "python",
     "metadata": {},
     "outputs": [],
     "prompt_number": 16
    },
    {
     "cell_type": "code",
     "collapsed": false,
     "input": [
      "\n",
      "for i in range(32):\n",
      "    print i, Pu[i].probs, A[-1][i].probs"
     ],
     "language": "python",
     "metadata": {},
     "outputs": [
      {
       "output_type": "stream",
       "stream": "stdout",
       "text": [
        "0 [0.5, 0.5] [0.5, 0.0, 0.0, 0.5]\n",
        "1 [0.5, 0.5] [0.5, 0.0, 0.0, 0.5]\n",
        "2 [0.5, 0.5] [0.0, 0.5, 0.5, 0.0]\n",
        "3 [0.75, 0.25] [0.25, 0.25, 0.25, 0.25]\n",
        "4 [0.625, 0.375] [0.375, 0.125, 0.125, 0.375]\n",
        "5 [0.5625, 0.4375] [0.4375, 0.0625, 0.0625, 0.4375]\n",
        "6 [0.53125, 0.46875] [0.46875, 0.03125, 0.03125, 0.46875]\n",
        "7 [0.515625, 0.484375] [0.484375, 0.015625, 0.015625, 0.484375]\n",
        "8 [0.5078125, 0.4921875] [0.4921875, 0.0078125, 0.0078125, 0.4921875]\n",
        "9 [0.50390625, 0.49609375] [0.49609375, 0.00390625, 0.00390625, 0.49609375]\n",
        "10 [0.501953125, 0.498046875] [0.498046875, 0.001953125, 0.001953125, 0.498046875]\n",
        "11 [0.5009765625, 0.4990234375] [0.4990234375, 0.0009765625, 0.0009765625, 0.4990234375]\n",
        "12 [0.50048828125, 0.49951171875] [0.49951171875, 0.00048828125, 0.00048828125, 0.49951171875]\n",
        "13 [0.500244140625, 0.499755859375] [0.499755859375, 0.000244140625, 0.000244140625, 0.499755859375]\n",
        "14 [0.5001220703125, 0.4998779296875] [0.4998779296875, 0.0001220703125, 0.0001220703125, 0.4998779296875]\n",
        "15 [0.50006103515625, 0.49993896484375] [0.49993896484375, 6.103515625e-05, 6.103515625e-05, 0.49993896484375]\n",
        "16 [0.500030517578125, 0.499969482421875] [0.499969482421875, 3.0517578125e-05, 3.0517578125e-05, 0.49996948242187506]\n",
        "17 [0.5000152587890625, 0.4999847412109375] [0.4999847412109375, 1.52587890625e-05, 1.52587890625e-05, 0.49998474121093744]\n",
        "18 [0.50000762939453125, 0.49999237060546875] [0.49999237060546881, 7.62939453125e-06, 7.62939453125e-06, 0.49999237060546875]\n",
        "19 [0.50000381469726562, 0.49999618530273443] [0.49999618530273443, 3.814697265625e-06, 3.814697265625e-06, 0.49999618530273443]\n",
        "20 [0.50000190734863281, 0.49999809265136719] [0.49999809265136719, 1.9073486328125e-06, 1.9073486328125e-06, 0.49999809265136724]\n",
        "21 [0.50000095367431641, 0.49999904632568359] [0.49999904632568365, 9.5367431640625e-07, 9.5367431640625e-07, 0.49999904632568359]\n",
        "22 [0.5000004768371582, 0.4999995231628418] [0.49999952316284191, 4.7683715820312495e-07, 4.76837158203125e-07, 0.49999952316284174]\n",
        "23 [0.5000002384185791, 0.49999976158142084] [0.49999976158142095, 2.3841857910156255e-07, 2.3841857910156255e-07, 0.49999976158142095]\n",
        "24 [0.50000011920928955, 0.49999988079071045] [0.49999988079071045, 1.1920928955078125e-07, 1.1920928955078122e-07, 0.4999998807907105]\n",
        "25 [0.50000005960464478, 0.49999994039535522] [0.49999994039535522, 5.9604644775390618e-08, 5.9604644775390612e-08, 0.49999994039535528]\n",
        "26 [0.50000002980232239, 0.49999997019767761] [0.49999997019767761, 2.9802322387695303e-08, 2.9802322387695306e-08, 0.49999997019767756]\n",
        "27 [0.50000001490116119, 0.49999998509883881] [0.49999998509883875, 1.4901161193847653e-08, 1.4901161193847653e-08, 0.49999998509883886]\n",
        "28 [0.5000000074505806, 0.4999999925494194] [0.4999999925494194, 7.4505805969238273e-09, 7.4505805969238273e-09, 0.49999999254941946]\n",
        "29 [0.5000000037252903, 0.4999999962747097] [0.4999999962747097, 3.7252902984619141e-09, 3.7252902984619136e-09, 0.49999999627470976]\n",
        "30 [0.50000000186264515, 0.49999999813735485] [0.49999999813735485, 1.8626451492309562e-09, 1.8626451492309562e-09, 0.4999999981373548]\n",
        "31 [0.50000000093132257, 0.49999999906867743] [0.49999999906867743, 9.31322574615478e-10, 9.313225746154781e-10, 0.49999999906867737]\n"
       ]
      }
     ],
     "prompt_number": 24
    },
    {
     "cell_type": "code",
     "collapsed": false,
     "input": [],
     "language": "python",
     "metadata": {},
     "outputs": []
    }
   ],
   "metadata": {}
  }
 ]
}