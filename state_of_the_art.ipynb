{
 "metadata": {
  "name": ""
 },
 "nbformat": 3,
 "nbformat_minor": 0,
 "worksheets": [
  {
   "cells": [
    {
     "cell_type": "code",
     "collapsed": false,
     "input": [
      "import collide\n",
      "reload(collide)\n",
      "from collide import *\n",
      "\n",
      "iv_source = \"\"\"\n",
      "bc 7e 39 3a 04 70 f6 84 e0 a4 84 de a5 56 87 5a\n",
      "cd df f9 c8 2d 02 01 6b 86 0e e7 f9 11 e1 84 18\n",
      "71 bf bf f1 06 70 95 c9 ed 44 af ee 78 12 24 09\n",
      "a3 b2 eb 2e 16 c0 cf c2 06 c5 20 28 10 38 3c 2b\"\"\"\n",
      "\n",
      "m1 = \"\"\"\n",
      "73 e6 e2 c8 43 7f b1 3e 4e 4d 5d b6 e3 83 e0 1d\n",
      "7b ea 24 2c 2b b6 30 54 68 45 b1 43 0c 21 94 ab\n",
      "fb 52 36 be 2b c9 1e 19 1d 11 bf 8f 66 5e f9 ab\n",
      "9f 8f e3 6a 40 2c bf 39 d7 7c 1f b4 3c b0 08 72\"\"\"\n",
      "\n",
      "m2 = \"\"\"\n",
      "7f e6 e2 ca 83 7f b1 2e fa 4d 5d aa df 83 e0 19\n",
      "c7 ea 24 36 0b b6 30 44 4c 45 b1 5f e0 21 94 bf\n",
      "f7 52 36 bc eb c9 1e 09 a9 11 bf 93 4a 5e f9 af\n",
      "23 8f e3 72 f0 2c bf 29 d7 7c 1f b8 84 b0 08 62\"\"\"\n",
      "\n",
      "iv_source = tonum(iv_source.replace(\"\\n\", \"\").replace(\" \", \"\").decode(\"hex\"))\n",
      "m1 = tonum(m1.replace(\"\\n\", \"\").replace(\" \", \"\").decode(\"hex\"))\n",
      "m2 = tonum(m2.replace(\"\\n\", \"\").replace(\" \", \"\").decode(\"hex\"))\n",
      "\n",
      "#sha = sha1(expand(tomsg(\"hello\")))\n",
      "sha = sha1(expand(iv_source))\n",
      "iv = sha1_output(sha)\n",
      "\n",
      "#dump32(iv)\n",
      "# aaf4c61d dcc5e8a2 dabede0f 3b482cd9 aea9434d\n",
      "\n",
      "\n",
      "#iv = map(lambda x: (x[0]+x[1])&0xFFFFFFFF, zip(sha[0:5], iv_l))\n",
      "#dump32(iv)\n",
      "\n",
      "#dump32(sha)\n"
     ],
     "language": "python",
     "metadata": {},
     "outputs": [],
     "prompt_number": 99
    },
    {
     "cell_type": "code",
     "collapsed": false,
     "input": [
      "dump32(xor(sha1(expand(m1), iv), sha1(expand(m2), iv)))\n"
     ],
     "language": "python",
     "metadata": {},
     "outputs": [
      {
       "output_type": "stream",
       "stream": "stdout",
       "text": [
        "  0 00000000 00000000 00000000 00000000 \n",
        "  4 00000000 14000002 C0000036 6C001A6A \n",
        "  8 0001CB3D 6928AF56 B16D3368 E8C9B287 \n",
        " 12 23B4DECE AF45351F 2627432F 031AB8B4 \n",
        " 16 17BC5BE1 21E2AE32 6AD81F70 61583B11 \n",
        " 20 8C22FC93 6B48843F A6DC8C9C D372DE0F \n",
        " 24 030D5FC6 958DA383 5EA36BB1 9FFC6F0D \n",
        " 28 B84EA7FE 335DC307 CA0DDE09 38B1C8EA \n",
        " 32 E91F35C1 480C425D 02E6C8ED 1124AEFF \n",
        " 36 5F59CA92 7129FAC8 284099BF 2BEEE0B5 \n",
        " 40 A3365671 9B13BC30 4C1DB49A 4282DB7B \n",
        " 44 1C64A70F 6ED99424 04DE8D74 F7229F8F \n",
        " 48 DF1C4521 573FBA9F B39F1B68 BF1FA9A3 \n",
        " 52 FAADB08E 6AC35BD0 3A0FC6C6 580ACB35 \n",
        " 56 C6F357A1 DFB1EA48 B6626966 27BA2B30 \n",
        " 60 1565DDE7 B1454EA8 57D5AC3C 4BF3530C \n",
        " 64 C2F335E3 831D2456 FD9FDAFF 59212FC3 \n",
        " 68 20373D82 119835E5 876F1F78 F3F68D3E \n",
        " 72 EBA725B6 02A40C5E 59A1482B 57E7B581 \n",
        " 76 D570950D 08B23C6B EC8E4804 CD6582A5 \n",
        " 80 E2EB45EE D4025A32 3957D949 3CEBC33D \n",
        " 84 817C857A \n"
       ]
      }
     ],
     "prompt_number": 100
    },
    {
     "cell_type": "code",
     "collapsed": false,
     "input": [],
     "language": "python",
     "metadata": {},
     "outputs": []
    }
   ],
   "metadata": {}
  }
 ]
}