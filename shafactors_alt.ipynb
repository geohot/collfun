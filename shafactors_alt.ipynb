{
 "metadata": {
  "name": ""
 },
 "nbformat": 3,
 "nbformat_minor": 0,
 "worksheets": [
  {
   "cells": [
    {
     "cell_type": "code",
     "collapsed": false,
     "input": [
      "import shafactors_alt\n",
      "reload(shafactors_alt)\n",
      "\n",
      "G = shafactors_alt.build_sha1_FactorGraph(80, 32)"
     ],
     "language": "python",
     "metadata": {},
     "outputs": [
      {
       "output_type": "stream",
       "stream": "stdout",
       "text": [
        "    zero   1   2       2 [] [2]\n",
        "    f_if   8  16      16 [2, 2, 2] [2]\n",
        "   f_maj   8  16      16 [2, 2, 2] [2]\n",
        "   f_xor   8  16      16 [2, 2, 2] [2]\n",
        "    xor5  16  32      32 [2, 2, 2, 2] [2]\n",
        "add_0_c0  64 128     128 [2, 2, 2, 2, 2, 2] [2]\n",
        "add_0_c1  64 128     128 [2, 2, 2, 2, 2, 2] [2]\n",
        "add_0_c2  64 128     128 [2, 2, 2, 2, 2, 2] [2]\n",
        "add_1_c0  64 128     128 [2, 2, 2, 2, 2, 2] [2]\n",
        "add_1_c1  64 128     128 [2, 2, 2, 2, 2, 2] [2]\n",
        "add_1_c2  64 128     128 [2, 2, 2, 2, 2, 2] [2]\n"
       ]
      }
     ],
     "prompt_number": 76
    },
    {
     "cell_type": "code",
     "collapsed": false,
     "input": [
      "G.reset()\n",
      "shafactors_alt.load_sha1_example_data(G)\n",
      "G.compute()"
     ],
     "language": "python",
     "metadata": {},
     "outputs": [
      {
       "output_type": "stream",
       "stream": "stdout",
       "text": [
        "12049 variables computed in 2 rounds in 0.511525 s\n"
       ]
      }
     ],
     "prompt_number": 77
    },
    {
     "cell_type": "code",
     "collapsed": false,
     "input": [],
     "language": "python",
     "metadata": {},
     "outputs": [],
     "prompt_number": 79
    },
    {
     "cell_type": "code",
     "collapsed": false,
     "input": [],
     "language": "python",
     "metadata": {},
     "outputs": [],
     "prompt_number": 67
    },
    {
     "cell_type": "code",
     "collapsed": false,
     "input": [],
     "language": "python",
     "metadata": {},
     "outputs": []
    }
   ],
   "metadata": {}
  }
 ]
}