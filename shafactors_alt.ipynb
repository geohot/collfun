{
 "metadata": {
  "name": ""
 },
 "nbformat": 3,
 "nbformat_minor": 0,
 "worksheets": [
  {
   "cells": [
    {
     "cell_type": "code",
     "collapsed": false,
     "input": [
      "%pylab inline\n",
      "from z3 import *\n",
      "    \n",
      "def b(x):\n",
      "    return bin(x)[2:].rjust(32, '0')\n",
      "\n",
      "cA = {}\n",
      "cW = {}\n",
      "\n",
      "# 0, 1, +, -: self explanatory\n",
      "# x: flip the bit\n",
      "# ^: Qt[b] == Qt-1[b]\n",
      "# !: Qt[b] != Qt-1[b]\n",
      "# r: Qt[b] == RL(Qt-1,30)[b]\n",
      "# R: Qt[b] != RL(Qt-1,30)[b]\n",
      "# m: Qt[b] == RL(Qt-2,30)[b]\n",
      "# #: Qt[b] != RL(Qt-2,30)[b]\n",
      "\n",
      "for ln in open('ms_char').read().split(\"\\n\"):\n",
      "    lnn = ln.split(\" \")\n",
      "    if len(lnn) > 1:\n",
      "        rnd = int(lnn[0][:-1])\n",
      "        cA[rnd] = lnn[1]\n",
      "        if len(lnn) == 3:\n",
      "            cW[rnd] = lnn[2]"
     ],
     "language": "python",
     "metadata": {},
     "outputs": [
      {
       "output_type": "stream",
       "stream": "stdout",
       "text": [
        "Populating the interactive namespace from numpy and matplotlib\n"
       ]
      },
      {
       "output_type": "stream",
       "stream": "stderr",
       "text": [
        "WARNING: pylab import has clobbered these variables: ['Formatter', 'solve']\n",
        "`%pylab --no-import-all` prevents importing * from pylab and numpy\n"
       ]
      }
     ],
     "prompt_number": 10
    },
    {
     "cell_type": "code",
     "collapsed": false,
     "input": [
      "from factorgraph import *\n",
      "import shafactors_alt\n",
      "reload(shafactors_alt)\n",
      "from shafactors_alt import *\n",
      "\n",
      "def encode_characteristic(s, rnd, z0, z1, char):\n",
      "    if len(z0) <= rnd:\n",
      "        return\n",
      "    for i in range(32):\n",
      "        c = char[31-i]\n",
      "        if c == \"0\":\n",
      "            G.addFactor(c_zero, [z0+\"_%d_%d\" % (rnd, i), z1+\"_%d_%d\" % (rnd, i)])\n",
      "        elif c == \"1\":\n",
      "            G.addFactor(c_one, [z0+\"_%d_%d\" % (rnd, i), z1+\"_%d_%d\" % (rnd, i)])\n",
      "        elif c == \"+\":\n",
      "            G.addFactor(c_plus, [z0+\"_%d_%d\" % (rnd, i), z1+\"_%d_%d\" % (rnd, i)])\n",
      "        elif c == \"-\":\n",
      "            G.addFactor(c_minus, [z0+\"_%d_%d\" % (rnd, i), z1+\"_%d_%d\" % (rnd, i)])\n",
      "        elif c == \"x\":\n",
      "            G.addFactor(c_x, [z0+\"_%d_%d\" % (rnd, i), z1+\"_%d_%d\" % (rnd, i)])\n",
      "        elif c == \"^\":\n",
      "            G.addFactor(c_equal, [z0+\"_%d_%d\" % (rnd, i), z1+\"_%d_%d\" % (rnd-1, i)])            \n",
      "        elif c == \"!\":\n",
      "            G.addFactor(c_x, [z0+\"_%d_%d\" % (rnd, i), z1+\"_%d_%d\" % (rnd-1, i)])            \n",
      "        elif c == \"r\":\n",
      "            G.addFactor(c_equal, [z0+\"_%d_%d\" % (rnd, i), z1+\"_%d_%d\" % (rnd-1, (i+30)%32)])            \n",
      "        elif c == \"R\":\n",
      "            G.addFactor(c_x, [z0+\"_%d_%d\" % (rnd, i), z1+\"_%d_%d\" % (rnd-1, (i+30)%32)])\n",
      "        elif c == \"m\":\n",
      "            G.addFactor(c_equal, [z0+\"_%d_%d\" % (rnd, i), z1+\"_%d_%d\" % (rnd-2, (i+30)%32)])\n",
      "        elif c == \"#\":\n",
      "            G.addFactor(c_x, [z0+\"_%d_%d\" % (rnd, i), z1+\"_%d_%d\" % (rnd-2, (i+30)%32)])\n",
      "        else:\n",
      "            G.addFactor(c_equal, [z0+\"_%d_%d\" % (rnd, i), z1+\"_%d_%d\" % (rnd, i)])\n",
      "\n",
      "            \n",
      "G = FactorGraph()\n",
      "\n",
      "ROUNDS = 20\n",
      "\n",
      "build_sha1_FactorGraph(G, ROUNDS, 32, \"0\")\n",
      "build_sha1_FactorGraph(G, ROUNDS, 32, \"1\")\n",
      "\n",
      "[encode_characteristic(G, rnd, \"0A\", \"1A\", cA[rnd]) for rnd in cA]\n",
      "[encode_characteristic(G, rnd, \"0W\", \"1W\", cW[rnd]) for rnd in cW]\n",
      "\n",
      "pass"
     ],
     "language": "python",
     "metadata": {},
     "outputs": [
      {
       "output_type": "stream",
       "stream": "stdout",
       "text": [
        "    f_if   8  16      16 [2, 2, 2] [2]\n",
        "   f_maj   8  16      16 [2, 2, 2] [2]\n",
        "   f_xor   8  16      16 [2, 2, 2] [2]\n",
        "    xor5  16  32      32 [2, 2, 2, 2] [2]\n",
        "add_0_c0  64 128     128 [2, 2, 2, 2, 2, 2] [2]\n",
        "add_0_c1  64 128     128 [2, 2, 2, 2, 2, 2] [2]\n",
        "add_0_c2  64 128     128 [2, 2, 2, 2, 2, 2] [2]\n",
        "add_1_c0  64 128     128 [2, 2, 2, 2, 2, 2] [2]\n",
        "add_1_c1  64 128     128 [2, 2, 2, 2, 2, 2] [2]\n",
        "add_1_c2  64 128     128 [2, 2, 2, 2, 2, 2] [2]\n",
        "  c_zero   4   8       8 [2, 2] [2]\n",
        "   c_one   4   8       8 [2, 2] [2]\n",
        "  c_plus   4   8       8 [2, 2] [2]\n",
        " c_minus   4   8       8 [2, 2] [2]\n",
        " c_equal   4   8       8 [2, 2] [2]\n",
        "     c_x   4   8       8 [2, 2] [2]\n"
       ]
      }
     ],
     "prompt_number": 18
    },
    {
     "cell_type": "code",
     "collapsed": false,
     "input": [
      "G.reset()\n",
      "#shafactors_alt.load_sha1_example_data(G)\n",
      "G.compute()"
     ],
     "language": "python",
     "metadata": {},
     "outputs": [
      {
       "output_type": "stream",
       "stream": "stdout",
       "text": [
        "1 variables computed in 2 rounds in 0.020251 s\n"
       ]
      }
     ],
     "prompt_number": 19
    },
    {
     "cell_type": "code",
     "collapsed": false,
     "input": [
      "len(G.variables)"
     ],
     "language": "python",
     "metadata": {},
     "outputs": [
      {
       "metadata": {},
       "output_type": "pyout",
       "prompt_number": 16,
       "text": [
        "25441"
       ]
      }
     ],
     "prompt_number": 16
    },
    {
     "cell_type": "code",
     "collapsed": false,
     "input": [
      "import networkx as nx\n",
      "\n",
      "GG = shafactors_alt.build_sha1_FactorGraph(2, 4)\n",
      "\n",
      "nx.write_dot(GG.graph(),'tmp/test.dot')"
     ],
     "language": "python",
     "metadata": {},
     "outputs": [],
     "prompt_number": 89
    },
    {
     "cell_type": "code",
     "collapsed": false,
     "input": [],
     "language": "python",
     "metadata": {},
     "outputs": [
      {
       "metadata": {},
       "output_type": "pyout",
       "prompt_number": 91,
       "text": [
        "array([[[[ 1.,  0.],\n",
        "         [ 1.,  0.]],\n",
        "\n",
        "        [[ 1.,  0.],\n",
        "         [ 0.,  1.]]],\n",
        "\n",
        "\n",
        "       [[[ 0.,  1.],\n",
        "         [ 1.,  0.]],\n",
        "\n",
        "        [[ 0.,  1.],\n",
        "         [ 0.,  1.]]]])"
       ]
      }
     ],
     "prompt_number": 91
    },
    {
     "cell_type": "code",
     "collapsed": false,
     "input": [],
     "language": "python",
     "metadata": {},
     "outputs": []
    }
   ],
   "metadata": {}
  }
 ]
}