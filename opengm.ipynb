{
 "metadata": {
  "name": ""
 },
 "nbformat": 3,
 "nbformat_minor": 0,
 "worksheets": [
  {
   "cells": [
    {
     "cell_type": "code",
     "collapsed": false,
     "input": [
      "import opengm\n",
      "import numpy as np\n",
      "from shafactors import *\n",
      "\n",
      "from collections import OrderedDict\n",
      "\n",
      "CONDITIONS = OrderedDict([\n",
      "    ('#', np.array([0.00, 0.00, 0.00, 0.00])),\n",
      "    \n",
      "    ('0', np.array([1.00, 0.00, 0.00, 0.00])),\n",
      "    ('n', np.array([0.00, 1.00, 0.00, 0.00])),\n",
      "    ('u', np.array([0.00, 0.00, 1.00, 0.00])),\n",
      "    ('1', np.array([0.00, 0.00, 0.00, 1.00])),\n",
      "    \n",
      "    ('x', np.array([0.00, 1.00, 1.00, 0.00])),\n",
      "    ('-', np.array([1.00, 0.00, 0.00, 1.00])),\n",
      "    \n",
      "    ('3', np.array([1.00, 1.00, 0.00, 0.00])),\n",
      "    ('5', np.array([1.00, 0.00, 1.00, 0.00])),\n",
      "    ('7', np.array([1.00, 1.00, 1.00, 0.00])),\n",
      "    ('A', np.array([0.00, 1.00, 0.00, 1.00])),\n",
      "    ('B', np.array([1.00, 1.00, 0.00, 1.00])),\n",
      "    ('C', np.array([0.00, 0.00, 1.00, 1.00])),\n",
      "    ('D', np.array([1.00, 0.00, 1.00, 1.00])),\n",
      "    ('E', np.array([0.00, 1.00, 1.00, 1.00])),\n",
      "    \n",
      "    ('?', np.array([1.00, 1.00, 1.00, 1.00])),\n",
      "])\n"
     ],
     "language": "python",
     "metadata": {},
     "outputs": [
      {
       "output_type": "stream",
       "stream": "stdout",
       "text": [
        "    f_if   8  16     256 [2, 2, 2] [2]\n",
        "   f_maj   8  16     256 [2, 2, 2] [2]\n",
        "   f_xor   8  16     256 [2, 2, 2] [2]\n",
        "   add_0  16 160   25600 [2, 2, 2, 2] [10]\n",
        "  addc_0  80 800  640000"
       ]
      },
      {
       "output_type": "stream",
       "stream": "stdout",
       "text": [
        " [2, 2, 2, 2, 5] [10]\n",
        "   add_1  16 160   25600 [2, 2, 2, 2] [10]\n",
        "  addc_1  80 800  640000"
       ]
      },
      {
       "output_type": "stream",
       "stream": "stdout",
       "text": [
        " [2, 2, 2, 2, 5] [10]\n",
        "   carry  10  50    2500 [10] [5]\n",
        "     lsb  10  20     400 [10] [2]\n",
        "    xor5  16  32    1024 [2, 2, 2, 2] [2]\n",
        " follows  64 128     128 [16, 4] [2]\n",
        "built factor matrices in 0.675549 s\n"
       ]
      }
     ],
     "prompt_number": 15
    },
    {
     "cell_type": "code",
     "collapsed": false,
     "input": [
      "# A-4-0, F, acacac...aca, O\n",
      "# A4-0, F, W, acaca...acaca, T\n",
      "# encoding of the variables for one round\n",
      "# priors are factors in a proper factor graph...\n",
      "\n",
      "rnd = 0\n",
      "bits = 32\n",
      "\n",
      "v = []\n",
      "vd = {}\n",
      "vl = []\n",
      "for j in range(rnd-4, rnd+1):\n",
      "    for i in range(bits):\n",
      "        v.append(\"A_%d_%d\" % (j, i))\n",
      "        vl.append(4)\n",
      "        \n",
      "for i in range(bits):\n",
      "    v.append(\"F_%d_%d\" % (rnd, i))\n",
      "    vl.append(4)\n",
      "for i in range(bits):\n",
      "    v.append(\"W_%d_%d\" % (rnd, i))\n",
      "    vl.append(4)\n",
      "    \n",
      "for i in range(bits):\n",
      "    v.append(\"O_%d_%d\" % (rnd, i))\n",
      "    vl.append(10*10)\n",
      "    v.append(\"A_%d_%d\" % (rnd+1, i))\n",
      "    vl.append(4)\n",
      "    if i != bits-1:\n",
      "        v.append(\"C_%d_%d\" % (rnd, i))\n",
      "        vl.append(5*5)\n",
      "\n",
      "for i, vv in zip(range(len(v)), v):\n",
      "    vd[vv] = i\n",
      "        \n",
      "class OpenGMFactorGraph(object):\n",
      "    def __init__(self, G, v):\n",
      "        self.G = G\n",
      "        self.v = v\n",
      "        assert self.G.numberOfVariables == len(v)\n",
      "        self.fids = {}\n",
      "\n",
      "    def addFactor(self, fxn, names):\n",
      "        idxs = map(lambda x: self.v.index(x), names)\n",
      "        #print idxs, map(lambda x: v[x], idxs)\n",
      "        \n",
      "        # get function\n",
      "        if id(fxn) not in self.fids:\n",
      "            #tmp = fxn.transpose(range(len(fxn.shape))[::-1])\n",
      "            tmp = fxn\n",
      "            self.fids[id(fxn)] = self.G.addFunction(tmp)\n",
      "        fid = self.fids[id(fxn)]\n",
      "        \n",
      "        G.addFactor(fid, idxs)\n",
      "    \n",
      "\n",
      "\"\"\"\n",
      "for i in range(32):\n",
      "    v.append(\"T_%d_%d\" % (rnd+1, i))\n",
      "\n",
      "v.append(\"Pu\")\n",
      "\"\"\"\n",
      "\n",
      "G = opengm.graphicalModel(vl, operator='multiplier')\n",
      "GM = OpenGMFactorGraph(G, v)\n",
      "add_sha1_factors_for_round(GM, rnd, bits)\n",
      "\n",
      "\"\"\"\n",
      "GM.addFactor(CONDITIONS['0'], [\"A_%d_%d\" % (-4,0)])\n",
      "GM.addFactor(CONDITIONS['0'], [\"A_%d_%d\" % (-3,0)])\n",
      "GM.addFactor(CONDITIONS['0'], [\"A_%d_%d\" % (-2,0)])\n",
      "GM.addFactor(CONDITIONS['0'], [\"A_%d_%d\" % (-1,0)])\n",
      "GM.addFactor(CONDITIONS['0'], [\"A_%d_%d\" % (0,0)])\n",
      "GM.addFactor(CONDITIONS['0'], [\"W_%d_%d\" % (0,0)])\n",
      "\"\"\"\n",
      "\n",
      "test_A = [\n",
      "    \"00001111010010111000011111000011\",\n",
      "    \"01000000110010010101000111011000\",\n",
      "    \"01100010111010110111001111111010\",\n",
      "    \"11101111110011011010101110001001\",\n",
      "    \"01100111010001010010001100000001\"]\n",
      "test_W = \"011000111101101011101111110111nu\"\n",
      "target_A = \"0000001110001111100010001001000n\"\n",
      "\n",
      "\n",
      "for i, tA in zip(range(rnd-4, rnd+1), test_A):\n",
      "    for j in range(32):\n",
      "        GM.addFactor(CONDITIONS[tA[::-1][j]], [\"A_%d_%d\" % (i,j)])\n",
      "\n",
      "for j in range(32):\n",
      "    GM.addFactor(CONDITIONS[test_W[::-1][j]], [\"W_%d_%d\" % (rnd,j)])\n",
      "\n",
      "\n",
      "\"\"\"\n",
      "for i in range(32):\n",
      "    GM.addFactor(equal, [\"A_%d_%d\" % (rnd+1, i), \"T_%d_%d\" % (rnd+1, i), \"Pu\"])\n",
      "\"\"\"\n",
      "\n",
      "print G.numberOfVariables, G.numberOfFactors, G.isAcyclic()\n",
      "\n",
      "inf = opengm.inference.BeliefPropagation(G)\n",
      "inf.reset()\n",
      "inf.infer()\n",
      "#inf.marginals(vd[\"A_1_0\"])\n",
      "inf.arg()"
     ],
     "language": "python",
     "metadata": {},
     "outputs": [
      {
       "output_type": "stream",
       "stream": "stdout",
       "text": [
        "319 319 True\n"
       ]
      },
      {
       "metadata": {},
       "output_type": "pyout",
       "prompt_number": 22,
       "text": [
        "array([ 3,  3,  0,  0,  0,  0,  3,  3,  3,  3,  3,  0,  0,  0,  0,  3,  3,\n",
        "        3,  0,  3,  0,  0,  3,  0,  3,  3,  3,  3,  0,  0,  0,  0,  0,  0,\n",
        "        0,  3,  3,  0,  3,  3,  3,  0,  0,  0,  3,  0,  3,  0,  3,  0,  0,\n",
        "        3,  0,  0,  3,  3,  0,  0,  0,  0,  0,  0,  3,  0,  0,  3,  0,  3,\n",
        "        3,  3,  3,  3,  3,  3,  0,  0,  3,  3,  3,  0,  3,  3,  0,  3,  0,\n",
        "        3,  3,  3,  0,  3,  0,  0,  0,  3,  3,  0,  3,  0,  0,  3,  0,  0,\n",
        "        0,  3,  3,  3,  0,  3,  0,  3,  0,  3,  3,  0,  3,  3,  0,  0,  3,\n",
        "        3,  3,  3,  3,  3,  0,  3,  3,  3,  3,  0,  0,  0,  0,  0,  0,  0,\n",
        "        3,  3,  0,  0,  0,  3,  0,  0,  3,  0,  3,  0,  0,  0,  3,  0,  3,\n",
        "        3,  3,  0,  0,  3,  3,  0,  0,  3,  3,  3,  3,  3,  3,  3,  0,  0,\n",
        "        3,  3,  3,  0,  3,  3,  0,  3,  0,  3,  3,  3,  0,  3,  0,  0,  0,\n",
        "        3,  3,  0,  0,  3,  2,  1,  3,  3,  3,  0,  3,  3,  3,  3,  3,  3,\n",
        "        0,  3,  3,  3,  0,  3,  0,  3,  3,  0,  3,  3,  3,  3,  0,  0,  0,\n",
        "        3,  3,  0, 21,  1,  5, 22,  0,  6, 44,  0, 12, 66,  0, 18, 77,  3,\n",
        "       18, 66,  0, 18, 66,  0, 18, 77,  3, 18, 66,  0, 18, 44,  0, 12, 44,\n",
        "        0, 12, 55,  3, 12, 44,  0, 12, 66,  0, 18, 88,  0, 24, 77,  3, 18,\n",
        "       33,  3,  6, 55,  3, 12, 33,  3,  6, 33,  3,  6, 44,  0, 12, 44,  0,\n",
        "       12, 44,  0, 12, 77,  3, 18, 55,  3, 12, 55,  3, 12, 22,  0,  6, 44,\n",
        "        0, 12, 44,  0, 12, 44,  0, 12, 66,  0, 18, 66,  0], dtype=uint64)"
       ]
      }
     ],
     "prompt_number": 22
    },
    {
     "cell_type": "code",
     "collapsed": false,
     "input": [
      "inf.arg()[vd[\"A_1_4\"]]"
     ],
     "language": "python",
     "metadata": {},
     "outputs": [
      {
       "metadata": {},
       "output_type": "pyout",
       "prompt_number": 28,
       "text": [
        "3"
       ]
      }
     ],
     "prompt_number": 28
    },
    {
     "cell_type": "code",
     "collapsed": false,
     "input": [
      "G.finalize()"
     ],
     "language": "python",
     "metadata": {},
     "outputs": [],
     "prompt_number": 48
    },
    {
     "cell_type": "code",
     "collapsed": false,
     "input": [
      "#opengm.visualizeGm(G)"
     ],
     "language": "python",
     "metadata": {},
     "outputs": [
      {
       "output_type": "stream",
       "stream": "stdout",
       "text": [
        "get node position...\n",
        "....done "
       ]
      }
     ],
     "prompt_number": "*"
    },
    {
     "cell_type": "code",
     "collapsed": false,
     "input": [
      "len(GM.fids)"
     ],
     "language": "python",
     "metadata": {},
     "outputs": [
      {
       "metadata": {},
       "output_type": "pyout",
       "prompt_number": 43,
       "text": [
        "10"
       ]
      }
     ],
     "prompt_number": 43
    },
    {
     "cell_type": "code",
     "collapsed": false,
     "input": [
      "opengm.saveGm(G, \"/tmp/sha1\")"
     ],
     "language": "python",
     "metadata": {},
     "outputs": [],
     "prompt_number": 12
    },
    {
     "cell_type": "code",
     "collapsed": false,
     "input": [],
     "language": "python",
     "metadata": {},
     "outputs": [
      {
       "metadata": {},
       "output_type": "pyout",
       "prompt_number": 28,
       "text": [
        "opengm.inference._inference.InferenceTermination.NORMAL"
       ]
      }
     ],
     "prompt_number": 28
    },
    {
     "cell_type": "code",
     "collapsed": false,
     "input": [],
     "language": "python",
     "metadata": {},
     "outputs": [
      {
       "metadata": {},
       "output_type": "pyout",
       "prompt_number": 31,
       "text": [
        "array([[ 0.,  0.,  0.,  0.]])"
       ]
      }
     ],
     "prompt_number": 31
    },
    {
     "cell_type": "code",
     "collapsed": false,
     "input": [
      "bp.value()"
     ],
     "language": "python",
     "metadata": {},
     "outputs": [
      {
       "metadata": {},
       "output_type": "pyout",
       "prompt_number": 32,
       "text": [
        "0.0"
       ]
      }
     ],
     "prompt_number": 32
    },
    {
     "cell_type": "code",
     "collapsed": false,
     "input": [
      "# a simple test of opengm\n",
      "# modelling the xor function\n",
      "# works!\n",
      "\n",
      "G = opengm.graphicalModel([2,2,2])\n",
      "\n",
      "f0 = G.addFunction(np.array([1.0, 0.0]))\n",
      "f1 = G.addFunction(np.array([0.0, 1.0]))\n",
      "xor = G.addFunction(np.array(\n",
      "            [[ [1.0, 0.0], [0.0, 1.0] ],\n",
      "             [ [0.0, 1.0], [1.0, 0.0] ]]))\n",
      "\n",
      "G.addFactor(f1, [0])\n",
      "G.addFactor(f1, [1])\n",
      "G.addFactor(xor, [0,1,2])\n",
      "\n",
      "print G.numberOfVariables, G.numberOfFactors, G.isAcyclic()\n",
      "\n",
      "bp = opengm.inference.BeliefPropagation(G)\n",
      "bp.reset()\n",
      "bp.infer()\n",
      "\n",
      "print bp.marginals(0), bp.marginals(1), bp.marginals(2)\n"
     ],
     "language": "python",
     "metadata": {},
     "outputs": [
      {
       "output_type": "stream",
       "stream": "stdout",
       "text": [
        "3 3 True\n",
        "[[ 0.  1.]] [[ 0.  1.]] [[ 1.  0.]]\n"
       ]
      }
     ],
     "prompt_number": 20
    },
    {
     "cell_type": "code",
     "collapsed": false,
     "input": [
      "#harder test\n",
      "import opengm\n",
      "import numpy as np\n",
      "\n",
      "G = opengm.graphicalModel([2]*4, operator='multiplier')\n",
      "\n",
      "xor3 = np.array(\n",
      "            [[[ [1.0, 0.0], [0.0, 1.0] ],\n",
      "              [ [0.0, 1.0], [1.0, 0.0] ]],\n",
      "             [[ [0.0, 1.0], [1.0, 0.0] ],\n",
      "              [ [1.0, 0.0], [0.0, 1.0] ]]])\n",
      "\n",
      "f0 = G.addFunction(np.array([1.0, 0.0]))\n",
      "f1 = G.addFunction(np.array([0.0, 1.0]))\n",
      "ff_xor = G.addFunction(xor3)\n",
      "\n",
      "G.addFactor(f0, [0])\n",
      "G.addFactor(f1, [1])\n",
      "G.addFactor(f1, [2])\n",
      "G.addFactor(ff_xor, [0,1,2,3])\n",
      "\n",
      "print G.numberOfVariables, G.numberOfFactors, G.isAcyclic()\n",
      "#print G.evaluate([0,0,0,0]), G.evaluate([0,0,0,1])\n",
      "\n",
      "inf = opengm.inference.BeliefPropagation(G, parameter=opengm.InfParam(steps=10,damping=0.5,convergenceBound=0.001))\n",
      "#bp = opengm.inference.DualDecompositionSubgradient(G)\n",
      "\n",
      "inf.reset()\n",
      "inf.infer()\n",
      "print inf.marginals(0), inf.marginals(1), inf.marginals(2), inf.marginals(3)\n",
      "\n",
      "#print bp.value()\n",
      "\n",
      "#bp.value()\n",
      "\n",
      "#bp.factorMarginals(3)\n",
      "\n",
      "inf.arg()\n",
      "                       "
     ],
     "language": "python",
     "metadata": {},
     "outputs": [
      {
       "output_type": "stream",
       "stream": "stdout",
       "text": [
        "4 4 True\n",
        "[[ 1.  0.]] [[ 0.  1.]] [[ 0.  1.]] [[ 1.  0.]]\n"
       ]
      },
      {
       "metadata": {},
       "output_type": "pyout",
       "prompt_number": 13,
       "text": [
        "array([0, 1, 1, 0], dtype=uint64)"
       ]
      }
     ],
     "prompt_number": 13
    },
    {
     "cell_type": "code",
     "collapsed": false,
     "input": [
      "opengm.visualizeGm(G)"
     ],
     "language": "python",
     "metadata": {},
     "outputs": [
      {
       "output_type": "stream",
       "stream": "stdout",
       "text": [
        "get node position...\n",
        "....done "
       ]
      }
     ],
     "prompt_number": "*"
    },
    {
     "cell_type": "code",
     "collapsed": false,
     "input": [
      "yy = opengm.ExplicitFunction(shape=(2,2,2,2), value=0.5)\n",
      "print yy.dimension, yy.ndim, yy.shape, yy.size"
     ],
     "language": "python",
     "metadata": {},
     "outputs": [
      {
       "output_type": "stream",
       "stream": "stdout",
       "text": [
        "1 1 (2L,) 2\n"
       ]
      }
     ],
     "prompt_number": 69
    },
    {
     "cell_type": "code",
     "collapsed": false,
     "input": [
      "??opengm.graphicalModel"
     ],
     "language": "python",
     "metadata": {},
     "outputs": [],
     "prompt_number": 8
    },
    {
     "cell_type": "code",
     "collapsed": false,
     "input": [],
     "language": "python",
     "metadata": {},
     "outputs": []
    }
   ],
   "metadata": {}
  }
 ]
}