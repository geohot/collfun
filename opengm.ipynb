{
 "metadata": {
  "name": ""
 },
 "nbformat": 3,
 "nbformat_minor": 0,
 "worksheets": [
  {
   "cells": [
    {
     "cell_type": "code",
     "collapsed": false,
     "input": [
      "import opengm\n",
      "import numpy as np\n",
      "from shafactors import *"
     ],
     "language": "python",
     "metadata": {},
     "outputs": [
      {
       "output_type": "stream",
       "stream": "stdout",
       "text": [
        "    f_if   8  16     256 [2, 2, 2] [2]\n",
        "   f_maj   8  16     256 [2, 2, 2] [2]\n",
        "   f_xor   8  16     256 [2, 2, 2] [2]\n",
        "   add_0  16 160   25600 [2, 2, 2, 2] [10]\n",
        "  addc_0  80 800  640000"
       ]
      },
      {
       "output_type": "stream",
       "stream": "stdout",
       "text": [
        " [2, 2, 2, 2, 5] [10]\n",
        "   add_1  16 160   25600 [2, 2, 2, 2] [10]\n",
        "  addc_1  80 800  640000"
       ]
      },
      {
       "output_type": "stream",
       "stream": "stdout",
       "text": [
        " [2, 2, 2, 2, 5] [10]\n",
        "   carry  10  50    2500 [10] [5]\n",
        "     lsb  10  20     400 [10] [2]\n",
        "    xor5  16  32    1024 [2, 2, 2, 2] [2]\n",
        " follows  64 128     128 [16, 4] [2]\n",
        "built factor matrices in 0.677207 s\n"
       ]
      }
     ],
     "prompt_number": 1
    },
    {
     "cell_type": "code",
     "collapsed": false,
     "input": [
      "# A-4-0, F, acacac...aca, O\n",
      "# A4-0, F, W, acaca...acaca, T\n",
      "# encoding of the variables for one round\n",
      "rnd = 50\n",
      "\n",
      "v = []\n",
      "vl = []\n",
      "for j in range(rnd-4, rnd+1):\n",
      "    for i in range(32):\n",
      "        v.append(\"A_%d_%d\" % (j, i))\n",
      "        vl.append(4)\n",
      "        \n",
      "for i in range(32):\n",
      "    v.append(\"F_%d_%d\" % (rnd, i))\n",
      "    vl.append(4)\n",
      "for i in range(32):\n",
      "    v.append(\"W_%d_%d\" % (rnd, i))\n",
      "    vl.append(4)\n",
      "    \n",
      "for i in range(32):\n",
      "    v.append(\"A_%d_%d\" % (rnd+1, i))\n",
      "    vl.append(4)\n",
      "    v.append(\"O_%d_%d\" % (rnd, i))\n",
      "    vl.append(10*10)\n",
      "    if i != 31:\n",
      "        v.append(\"C_%d_%d\" % (rnd, i))\n",
      "        vl.append(5*5)\n",
      "\n",
      "class OpenGMFactorGraph(object):\n",
      "    def __init__(self, G, v):\n",
      "        self.G = G\n",
      "        self.v = v\n",
      "        assert self.G.numberOfVariables == len(v)\n",
      "        self.fids = {}\n",
      "\n",
      "    def addFactor(self, fxn, names):\n",
      "        idxs = map(lambda x: self.v.index(x), names)\n",
      "        print idxs, map(lambda x:\n",
      "        \n",
      "        # get function\n",
      "        if id(fxn) not in self.fids:\n",
      "            self.fids[id(fxn)] = self.G.addFunction(fxn)\n",
      "        fid = self.fids[id(fxn)]\n",
      "        \n",
      "        G.addFactor(fid, idxs)\n",
      "    \n",
      "\n",
      "\n",
      "\n",
      "\n",
      "\"\"\"\n",
      "for i in range(32):\n",
      "    v.append(\"T_%d_%d\" % (rnd+1, i))\n",
      "\n",
      "v.append(\"Pu\")\n",
      "\"\"\"\n",
      "\n",
      "G = opengm.graphicalModel(vl)\n",
      "GM = OpenGMFactorGraph(G, v)\n",
      "add_sha1_factors_for_round(GM, rnd)\n",
      "\n",
      "\"\"\"\n",
      "for i in range(32):\n",
      "    GM.addFactor(equal, [\"A_%d_%d\" % (rnd+1, i), \"T_%d_%d\" % (rnd+1, i), \"Pu\"])\n",
      "\"\"\"\n",
      "\n",
      "pass"
     ],
     "language": "python",
     "metadata": {},
     "outputs": [
      {
       "ename": "RuntimeError",
       "evalue": "OpenGM Error: variable indices of a factor must be sorted\nOpenGM check :  factor.variableIndex(i-1)<factor.variableIndex(i)  failed:\nfactor.variableIndex(i-1) = 225\nfactor.variableIndex(i) = 224\nin file /home/ghotz/build/opengm-master/include/opengm/graphicalmodel/graphicalmodel.hxx, line 680\n",
       "output_type": "pyerr",
       "traceback": [
        "\u001b[0;31m---------------------------------------------------------------------------\u001b[0m\n\u001b[0;31mRuntimeError\u001b[0m                              Traceback (most recent call last)",
        "\u001b[0;32m<ipython-input-8-77fa9f579512>\u001b[0m in \u001b[0;36m<module>\u001b[0;34m()\u001b[0m\n\u001b[1;32m     58\u001b[0m \u001b[0mG\u001b[0m \u001b[0;34m=\u001b[0m \u001b[0mopengm\u001b[0m\u001b[0;34m.\u001b[0m\u001b[0mgraphicalModel\u001b[0m\u001b[0;34m(\u001b[0m\u001b[0mvl\u001b[0m\u001b[0;34m)\u001b[0m\u001b[0;34m\u001b[0m\u001b[0m\n\u001b[1;32m     59\u001b[0m \u001b[0mGM\u001b[0m \u001b[0;34m=\u001b[0m \u001b[0mOpenGMFactorGraph\u001b[0m\u001b[0;34m(\u001b[0m\u001b[0mG\u001b[0m\u001b[0;34m,\u001b[0m \u001b[0mv\u001b[0m\u001b[0;34m)\u001b[0m\u001b[0;34m\u001b[0m\u001b[0m\n\u001b[0;32m---> 60\u001b[0;31m \u001b[0madd_sha1_factors_for_round\u001b[0m\u001b[0;34m(\u001b[0m\u001b[0mGM\u001b[0m\u001b[0;34m,\u001b[0m \u001b[0mrnd\u001b[0m\u001b[0;34m)\u001b[0m\u001b[0;34m\u001b[0m\u001b[0m\n\u001b[0m\u001b[1;32m     61\u001b[0m \u001b[0;34m\u001b[0m\u001b[0m\n\u001b[1;32m     62\u001b[0m \"\"\"\n",
        "\u001b[0;32m/home/ghotz/sha1/collfun/shafactors.pyc\u001b[0m in \u001b[0;36madd_sha1_factors_for_round\u001b[0;34m(G, i, bits)\u001b[0m\n\u001b[1;32m    130\u001b[0m       G.addFactor(lsb, [\n\u001b[1;32m    131\u001b[0m         \u001b[0;34m\"O_%d_%d\"\u001b[0m \u001b[0;34m%\u001b[0m \u001b[0;34m(\u001b[0m\u001b[0mi\u001b[0m\u001b[0;34m,\u001b[0m \u001b[0mj\u001b[0m\u001b[0;34m)\u001b[0m\u001b[0;34m,\u001b[0m\u001b[0;34m\u001b[0m\u001b[0m\n\u001b[0;32m--> 132\u001b[0;31m         \"A_%d_%d\" % (i+1, j)])\n\u001b[0m\u001b[1;32m    133\u001b[0m       \u001b[0;32mif\u001b[0m \u001b[0mj\u001b[0m \u001b[0;34m!=\u001b[0m \u001b[0mbits\u001b[0m\u001b[0;34m-\u001b[0m\u001b[0;36m1\u001b[0m\u001b[0;34m:\u001b[0m\u001b[0;34m\u001b[0m\u001b[0m\n\u001b[1;32m    134\u001b[0m         G.addFactor(carry, [\n",
        "\u001b[0;32m<ipython-input-8-77fa9f579512>\u001b[0m in \u001b[0;36maddFactor\u001b[0;34m(self, fxn, names)\u001b[0m\n\u001b[1;32m     43\u001b[0m         \u001b[0mfid\u001b[0m \u001b[0;34m=\u001b[0m \u001b[0mself\u001b[0m\u001b[0;34m.\u001b[0m\u001b[0mfids\u001b[0m\u001b[0;34m[\u001b[0m\u001b[0mid\u001b[0m\u001b[0;34m(\u001b[0m\u001b[0mfxn\u001b[0m\u001b[0;34m)\u001b[0m\u001b[0;34m]\u001b[0m\u001b[0;34m\u001b[0m\u001b[0m\n\u001b[1;32m     44\u001b[0m \u001b[0;34m\u001b[0m\u001b[0m\n\u001b[0;32m---> 45\u001b[0;31m         \u001b[0mG\u001b[0m\u001b[0;34m.\u001b[0m\u001b[0maddFactor\u001b[0m\u001b[0;34m(\u001b[0m\u001b[0mfid\u001b[0m\u001b[0;34m,\u001b[0m \u001b[0midxs\u001b[0m\u001b[0;34m)\u001b[0m\u001b[0;34m\u001b[0m\u001b[0m\n\u001b[0m\u001b[1;32m     46\u001b[0m \u001b[0;34m\u001b[0m\u001b[0m\n\u001b[1;32m     47\u001b[0m \u001b[0;34m\u001b[0m\u001b[0m\n",
        "\u001b[0;32m/usr/lib/python2.7/dist-packages/opengm/opengmcore/gm_injector.py\u001b[0m in \u001b[0;36maddFactor\u001b[0;34m(self, fid, variableIndices, finalze)\u001b[0m\n\u001b[1;32m    322\u001b[0m           \u001b[0;32mreturn\u001b[0m \u001b[0mself\u001b[0m\u001b[0;34m.\u001b[0m\u001b[0m_addFactor\u001b[0m\u001b[0;34m(\u001b[0m\u001b[0mfid\u001b[0m\u001b[0;34m,\u001b[0m\u001b[0mnumpy\u001b[0m\u001b[0;34m.\u001b[0m\u001b[0mrequire\u001b[0m\u001b[0;34m(\u001b[0m\u001b[0mvariableIndices\u001b[0m\u001b[0;34m,\u001b[0m\u001b[0mdtype\u001b[0m\u001b[0;34m=\u001b[0m\u001b[0mindex_type\u001b[0m\u001b[0;34m)\u001b[0m\u001b[0;34m,\u001b[0m\u001b[0mfinalze\u001b[0m\u001b[0;34m)\u001b[0m\u001b[0;34m\u001b[0m\u001b[0m\n\u001b[1;32m    323\u001b[0m         \u001b[0;32melse\u001b[0m\u001b[0;34m:\u001b[0m\u001b[0;34m\u001b[0m\u001b[0m\n\u001b[0;32m--> 324\u001b[0;31m           \u001b[0;32mreturn\u001b[0m \u001b[0mself\u001b[0m\u001b[0;34m.\u001b[0m\u001b[0m_addFactor\u001b[0m\u001b[0;34m(\u001b[0m\u001b[0mfid\u001b[0m\u001b[0;34m,\u001b[0m\u001b[0mvariableIndices\u001b[0m\u001b[0;34m,\u001b[0m\u001b[0mfinalze\u001b[0m\u001b[0;34m)\u001b[0m\u001b[0;34m\u001b[0m\u001b[0m\n\u001b[0m\u001b[1;32m    325\u001b[0m \u001b[0;34m\u001b[0m\u001b[0m\n\u001b[1;32m    326\u001b[0m       \u001b[0;32mdef\u001b[0m \u001b[0maddFactors\u001b[0m\u001b[0;34m(\u001b[0m\u001b[0mself\u001b[0m\u001b[0;34m,\u001b[0m\u001b[0mfids\u001b[0m\u001b[0;34m,\u001b[0m\u001b[0mvariableIndices\u001b[0m\u001b[0;34m,\u001b[0m\u001b[0mfinalize\u001b[0m\u001b[0;34m=\u001b[0m\u001b[0mTrue\u001b[0m\u001b[0;34m)\u001b[0m\u001b[0;34m:\u001b[0m\u001b[0;34m\u001b[0m\u001b[0m\n",
        "\u001b[0;31mRuntimeError\u001b[0m: OpenGM Error: variable indices of a factor must be sorted\nOpenGM check :  factor.variableIndex(i-1)<factor.variableIndex(i)  failed:\nfactor.variableIndex(i-1) = 225\nfactor.variableIndex(i) = 224\nin file /home/ghotz/build/opengm-master/include/opengm/graphicalmodel/graphicalmodel.hxx, line 680\n"
       ]
      },
      {
       "output_type": "stream",
       "stream": "stdout",
       "text": [
        "[34, 66, 96, 160]\n",
        "[35, 67, 97, 161]\n",
        "[36, 68, 98, 162]\n",
        "[37, 69, 99, 163]\n",
        "[38, 70, 100, 164]\n",
        "[39, 71, 101, 165]\n",
        "[40, 72, 102, 166]\n",
        "[41, 73, 103, 167]\n",
        "[42, 74, 104, 168]\n",
        "[43, 75, 105, 169]\n",
        "[44, 76, 106, 170]\n",
        "[45, 77, 107, 171]\n",
        "[46, 78, 108, 172]\n",
        "[47, 79, 109, 173]\n",
        "[48, 80, 110, 174]\n",
        "[49, 81, 111, 175]\n",
        "[50, 82, 112, 176]\n",
        "[51, 83, 113, 177]\n",
        "[52, 84, 114, 178]\n",
        "[53, 85, 115, 179]\n",
        "[54, 86, 116, 180]\n",
        "[55, 87, 117, 181]\n",
        "[56, 88, 118, 182]\n",
        "[57, 89, 119, 183]\n",
        "[58, 90, 120, 184]\n",
        "[59, 91, 121, 185]\n",
        "[60, 92, 122, 186]\n",
        "[61, 93, 123, 187]\n",
        "[62, 94, 124, 188]\n",
        "[63, 95, 125, 189]\n",
        "[32, 64, 126, 190]\n",
        "[33, 65, 127, 191]\n",
        "[2, 155, 160, 192, 225]\n",
        "[225, 224]\n"
       ]
      }
     ],
     "prompt_number": 8
    },
    {
     "cell_type": "code",
     "collapsed": false,
     "input": [
      "G.numberOfVariables, G.numberOfFactors, G.isAcyclic()"
     ],
     "language": "python",
     "metadata": {},
     "outputs": [
      {
       "metadata": {},
       "output_type": "pyout",
       "prompt_number": 34,
       "text": [
        "(320, 95, False)"
       ]
      }
     ],
     "prompt_number": 34
    },
    {
     "cell_type": "code",
     "collapsed": false,
     "input": [
      "??G.fixVariables"
     ],
     "language": "python",
     "metadata": {},
     "outputs": [],
     "prompt_number": 40
    },
    {
     "cell_type": "code",
     "collapsed": false,
     "input": [
      "G.finalize()"
     ],
     "language": "python",
     "metadata": {},
     "outputs": [],
     "prompt_number": 48
    },
    {
     "cell_type": "code",
     "collapsed": false,
     "input": [],
     "language": "python",
     "metadata": {},
     "outputs": [
      {
       "metadata": {},
       "output_type": "pyout",
       "prompt_number": 56,
       "text": [
        "<opengm.opengmcore._opengmcore.Space at 0x7ff1f06e0fa0>"
       ]
      }
     ],
     "prompt_number": 56
    },
    {
     "cell_type": "code",
     "collapsed": false,
     "input": [],
     "language": "python",
     "metadata": {},
     "outputs": []
    }
   ],
   "metadata": {}
  }
 ]
}