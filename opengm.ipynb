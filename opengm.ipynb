{
 "metadata": {
  "name": ""
 },
 "nbformat": 3,
 "nbformat_minor": 0,
 "worksheets": [
  {
   "cells": [
    {
     "cell_type": "code",
     "collapsed": false,
     "input": [
      "import opengm\n",
      "import numpy as np\n",
      "from shafactors import *"
     ],
     "language": "python",
     "metadata": {},
     "outputs": [
      {
       "output_type": "stream",
       "stream": "stdout",
       "text": [
        "    f_if   8  16     256 [2, 2, 2] [2]\n",
        "   f_maj   8  16     256 [2, 2, 2] [2]\n",
        "   f_xor   8  16     256 [2, 2, 2] [2]\n",
        "   add_0  16  32    1024 [2, 2, 2, 2] [2]\n",
        "  addc_0  80 160   25600"
       ]
      },
      {
       "output_type": "stream",
       "stream": "stdout",
       "text": [
        " [2, 2, 2, 2, 5] [2]\n",
        " carry_0  16  80    6400 [2, 2, 2, 2] [5]\n",
        "carryc_0  80 400  160000"
       ]
      },
      {
       "output_type": "stream",
       "stream": "stdout",
       "text": [
        " [2, 2, 2, 2, 5] [5]\n",
        "   add_1  16  32    1024 [2, 2, 2, 2] [2]\n",
        "  addc_1  80 160   25600"
       ]
      },
      {
       "output_type": "stream",
       "stream": "stdout",
       "text": [
        " [2, 2, 2, 2, 5] [2]\n",
        " carry_1  16  80    6400 [2, 2, 2, 2] [5]\n",
        "carryc_1  80 400  160000"
       ]
      },
      {
       "output_type": "stream",
       "stream": "stdout",
       "text": [
        " [2, 2, 2, 2, 5] [5]\n",
        "    xor5  16  32    1024 [2, 2, 2, 2] [2]\n",
        "   equal  16  32      32 [4, 4] [2]\n",
        "built factor matrices in 1.169535 s\n"
       ]
      }
     ],
     "prompt_number": 1
    },
    {
     "cell_type": "code",
     "collapsed": false,
     "input": [
      "# A-4-0, F, acacac...aca, O\n",
      "\n",
      "class OpenGMFactorGraph(object):\n",
      "    def __init__(self, G, v):\n",
      "        self.G = G\n",
      "        self.v = v\n",
      "        assert self.G.numberOfVariables == len(v)\n",
      "        self.fids = {}\n",
      "\n",
      "    def addFactor(self, fxn, names):\n",
      "        idxs = map(lambda x: self.v.index(x), names)\n",
      "        #print idxs\n",
      "        \n",
      "        # get function\n",
      "        if id(fxn) not in self.fids:\n",
      "            self.fids[id(fxn)] = self.G.addFunction(fxn)\n",
      "        fid = self.fids[id(fxn)]\n",
      "        \n",
      "        G.addFactor(fid, idxs)\n",
      "    \n",
      "\n",
      "rnd = 50\n",
      "\n",
      "# A4-0, F, W, acaca...acaca, T\n",
      "G = opengm.graphicalModel([4]*(32*7) + [4,5*5]*(31) + [4] + [4]*(32) + [2])\n",
      "\n",
      "# encoding of the variables for one round\n",
      "v = []\n",
      "for j in range(rnd-4, rnd+1):\n",
      "    for i in range(32):\n",
      "        v.append(\"A_%d_%d\" % (j, i))\n",
      "        \n",
      "for i in range(32):\n",
      "    v.append(\"F_%d_%d\" % (rnd, i))\n",
      "for i in range(32):\n",
      "    v.append(\"W_%d_%d\" % (rnd, i))\n",
      "    \n",
      "for i in range(32):\n",
      "    v.append(\"A_%d_%d\" % (rnd+1, i))\n",
      "    if i != 31:\n",
      "        v.append(\"C_%d_%d\" % (rnd, i))\n",
      "        \n",
      "for i in range(32):\n",
      "    v.append(\"T_%d_%d\" % (rnd+1, i))     \n",
      "\n",
      "v.append(\"Pu\")\n",
      "\n",
      "GM = OpenGMFactorGraph(G, v)\n",
      "add_sha1_factors_for_round(GM, rnd)\n",
      "\n",
      "\"\"\"\n",
      "for i in range(32):\n",
      "    GM.addFactor(equal, [\"A_%d_%d\" % (rnd+1, i), \"T_%d_%d\" % (rnd+1, i), \"Pu\"])\n",
      "\"\"\""
     ],
     "language": "python",
     "metadata": {},
     "outputs": [
      {
       "metadata": {},
       "output_type": "pyout",
       "prompt_number": 37,
       "text": [
        "'\\nfor i in range(32):\\n    GM.addFactor(equal, [\"A_%d_%d\" % (rnd+1, i), \"T_%d_%d\" % (rnd+1, i), \"Pu\"])\\n'"
       ]
      }
     ],
     "prompt_number": 37
    },
    {
     "cell_type": "code",
     "collapsed": false,
     "input": [
      "G.numberOfVariables, G.numberOfFactors, G.isAcyclic()"
     ],
     "language": "python",
     "metadata": {},
     "outputs": [
      {
       "metadata": {},
       "output_type": "pyout",
       "prompt_number": 34,
       "text": [
        "(320, 95, False)"
       ]
      }
     ],
     "prompt_number": 34
    },
    {
     "cell_type": "code",
     "collapsed": false,
     "input": [
      "??G.fixVariables"
     ],
     "language": "python",
     "metadata": {},
     "outputs": [],
     "prompt_number": 40
    },
    {
     "cell_type": "code",
     "collapsed": false,
     "input": [
      "G.finalize()"
     ],
     "language": "python",
     "metadata": {},
     "outputs": [],
     "prompt_number": 48
    },
    {
     "cell_type": "code",
     "collapsed": false,
     "input": [],
     "language": "python",
     "metadata": {},
     "outputs": [
      {
       "metadata": {},
       "output_type": "pyout",
       "prompt_number": 56,
       "text": [
        "<opengm.opengmcore._opengmcore.Space at 0x7ff1f06e0fa0>"
       ]
      }
     ],
     "prompt_number": 56
    },
    {
     "cell_type": "code",
     "collapsed": false,
     "input": [],
     "language": "python",
     "metadata": {},
     "outputs": []
    }
   ],
   "metadata": {}
  }
 ]
}